{
  "metadata": {
    "kaggle": {
      "accelerator": "none",
      "dataSources": [
        {
          "sourceId": 2150,
          "sourceType": "datasetVersion",
          "datasetId": 29
        }
      ],
      "dockerImageVersionId": 30761,
      "isInternetEnabled": true,
      "language": "python",
      "sourceType": "notebook",
      "isGpuEnabled": false
    },
    "kernelspec": {
      "display_name": "Python 3 (ipykernel)",
      "language": "python",
      "name": "python3"
    },
    "language_info": {
      "codemirror_mode": {
        "name": "ipython",
        "version": 3
      },
      "file_extension": ".py",
      "mimetype": "text/x-python",
      "name": "python",
      "nbconvert_exporter": "python",
      "pygments_lexer": "ipython3",
      "version": "3.9.13"
    },
    "colab": {
      "name": "Forecasting Temperature Trends for Egypt",
      "provenance": [],
      "include_colab_link": true
    }
  },
  "nbformat_minor": 0,
  "nbformat": 4,
  "cells": [
    {
      "cell_type": "markdown",
      "metadata": {
        "id": "view-in-github",
        "colab_type": "text"
      },
      "source": [
        "<a href=\"https://colab.research.google.com/github/Hossam-Osama/Forecasting-Temperature-Trends-for-Egypt/blob/main/Forecasting_Temperature_Trends_for_Egypt.ipynb\" target=\"_parent\"><img src=\"https://colab.research.google.com/assets/colab-badge.svg\" alt=\"Open In Colab\"/></a>"
      ]
    },
    {
      "source": [
        "\n",
        "# IMPORTANT: RUN THIS CELL IN ORDER TO IMPORT YOUR KAGGLE DATA SOURCES\n",
        "# TO THE CORRECT LOCATION (/kaggle/input) IN YOUR NOTEBOOK,\n",
        "# THEN FEEL FREE TO DELETE THIS CELL.\n",
        "# NOTE: THIS NOTEBOOK ENVIRONMENT DIFFERS FROM KAGGLE'S PYTHON\n",
        "# ENVIRONMENT SO THERE MAY BE MISSING LIBRARIES USED BY YOUR\n",
        "# NOTEBOOK.\n",
        "\n",
        "import os\n",
        "import sys\n",
        "from tempfile import NamedTemporaryFile\n",
        "from urllib.request import urlopen\n",
        "from urllib.parse import unquote, urlparse\n",
        "from urllib.error import HTTPError\n",
        "from zipfile import ZipFile\n",
        "import tarfile\n",
        "import shutil\n",
        "\n",
        "CHUNK_SIZE = 40960\n",
        "DATA_SOURCE_MAPPING = 'climate-change-earth-surface-temperature-data:https%3A%2F%2Fstorage.googleapis.com%2Fkaggle-data-sets%2F29%2F2150%2Fbundle%2Farchive.zip%3FX-Goog-Algorithm%3DGOOG4-RSA-SHA256%26X-Goog-Credential%3Dgcp-kaggle-com%2540kaggle-161607.iam.gserviceaccount.com%252F20240917%252Fauto%252Fstorage%252Fgoog4_request%26X-Goog-Date%3D20240917T173225Z%26X-Goog-Expires%3D259200%26X-Goog-SignedHeaders%3Dhost%26X-Goog-Signature%3D7ea1e1eba26ceee2300f2051423690442712e05579cb5d2a17b12c9c73c848957a634dd8361e9054e01a29371a014241e488649d7bdf009b3e879c6fe9525c0cf8030c891603648195db19ed1f2c6b28d7631e31203ceff98469bda6478e90ad3ced6b4ce653bbca134c4bd6c8d34046e53660844691d661217c120cfaa6f765e16f650bffa7571ee827892d48b0b47069706e867884581de935ec193b2c4fdfaa1ebc3d1c2e5c257d507e5d20b7fa761a07945e6912ee473834f6506c0e8b61dc77a7df9d0bbefc511cc51866c85582ad37fdc41032d7698748dbbebeb3e07ec8f670add8afa954b70cb1101844cf5ee6db5183dc7f71ec85fe5e110105b6a9'\n",
        "\n",
        "KAGGLE_INPUT_PATH='/kaggle/input'\n",
        "KAGGLE_WORKING_PATH='/kaggle/working'\n",
        "KAGGLE_SYMLINK='kaggle'\n",
        "\n",
        "!umount /kaggle/input/ 2> /dev/null\n",
        "shutil.rmtree('/kaggle/input', ignore_errors=True)\n",
        "os.makedirs(KAGGLE_INPUT_PATH, 0o777, exist_ok=True)\n",
        "os.makedirs(KAGGLE_WORKING_PATH, 0o777, exist_ok=True)\n",
        "\n",
        "try:\n",
        "  os.symlink(KAGGLE_INPUT_PATH, os.path.join(\"..\", 'input'), target_is_directory=True)\n",
        "except FileExistsError:\n",
        "  pass\n",
        "try:\n",
        "  os.symlink(KAGGLE_WORKING_PATH, os.path.join(\"..\", 'working'), target_is_directory=True)\n",
        "except FileExistsError:\n",
        "  pass\n",
        "\n",
        "for data_source_mapping in DATA_SOURCE_MAPPING.split(','):\n",
        "    directory, download_url_encoded = data_source_mapping.split(':')\n",
        "    download_url = unquote(download_url_encoded)\n",
        "    filename = urlparse(download_url).path\n",
        "    destination_path = os.path.join(KAGGLE_INPUT_PATH, directory)\n",
        "    try:\n",
        "        with urlopen(download_url) as fileres, NamedTemporaryFile() as tfile:\n",
        "            total_length = fileres.headers['content-length']\n",
        "            print(f'Downloading {directory}, {total_length} bytes compressed')\n",
        "            dl = 0\n",
        "            data = fileres.read(CHUNK_SIZE)\n",
        "            while len(data) > 0:\n",
        "                dl += len(data)\n",
        "                tfile.write(data)\n",
        "                done = int(50 * dl / int(total_length))\n",
        "                sys.stdout.write(f\"\\r[{'=' * done}{' ' * (50-done)}] {dl} bytes downloaded\")\n",
        "                sys.stdout.flush()\n",
        "                data = fileres.read(CHUNK_SIZE)\n",
        "            if filename.endswith('.zip'):\n",
        "              with ZipFile(tfile) as zfile:\n",
        "                zfile.extractall(destination_path)\n",
        "            else:\n",
        "              with tarfile.open(tfile.name) as tarfile:\n",
        "                tarfile.extractall(destination_path)\n",
        "            print(f'\\nDownloaded and uncompressed: {directory}')\n",
        "    except HTTPError as e:\n",
        "        print(f'Failed to load (likely expired) {download_url} to path {destination_path}')\n",
        "        continue\n",
        "    except OSError as e:\n",
        "        print(f'Failed to load {download_url} to path {destination_path}')\n",
        "        continue\n",
        "\n",
        "print('Data source import complete.')\n"
      ],
      "metadata": {
        "id": "BcoQdPfMCvDH"
      },
      "cell_type": "code",
      "outputs": [],
      "execution_count": null
    },
    {
      "cell_type": "markdown",
      "source": [
        "**Welcome to our notebook!**\n",
        "<br>\n",
        "We are a group of students from the **Samsung Innovation Campus (SIC)**, exploring the power of artificial intelligence. Through this program, in collaboration with *Samsung*, *LifeMakers* and *Machinfy academy*, we’ve been able to work on real-world projects that challenge our understanding of AI and data science.\n",
        "<br>\n",
        "In this notebook, we focus on **predicting temperature for Egypt**, using a comprehensive dataset on global climate change. Throughout this journey, we’ve worked on a range of tasks including **Exploratory Data Analysis (EDA), data preprocessing, handling missing values, outlier detection and treatment, and time series analysis to check for stationarity**. We then applied models to predict temperatures and uncertainties, working with methods like **Linear Regression, Random Forest, and Time Series Forecasting Models.** We are excited to share what we’ve learned and how we’ve applied AI techniques to tackle this problem!\n",
        "\n",
        "><a href= 'https://www.linkedin.com/in/eyad-abdelmeguid/'>Eyad Mohamed</a><br>\n",
        "<a href= 'https://www.linkedin.com/in/hossam-osama-181760248/'>Hossam Eleraqi</a><br>\n",
        "<a href= 'https://www.linkedin.com/in/shahd-ahmed-3a66b6284'>Shahd</a><br>\n",
        "\n",
        "This notebook is more than just code; it’s a reflection of our learning process, the challenges we faced in handling complex datasets, and how we refined our approach to predicting temperatures. We hope you find this exploration of climate data insightful!<br>\n",
        "<a href= ''>Our Presentation</a>"
      ],
      "metadata": {
        "id": "aRlUpAc1CvDK"
      }
    },
    {
      "cell_type": "markdown",
      "source": [
        "# Importing Libraries and Loading the data"
      ],
      "metadata": {
        "id": "ZXpC3xbICvDM"
      }
    },
    {
      "cell_type": "code",
      "source": [
        "# libraries for data gathering and visualization\n",
        "import pandas as pd\n",
        "import numpy as np\n",
        "import seaborn as sns\n",
        "import matplotlib.pyplot as plt\n",
        "\n",
        "import plotly.express as px\n",
        "import plotly.graph_objects as go\n",
        "from plotly.offline import iplot\n",
        "\n",
        "# libraries for preprocessing\n",
        "from sklearn.feature_selection import SelectPercentile, f_classif\n",
        "from sklearn.pipeline import Pipeline\n",
        "from sklearn.experimental import enable_iterative_imputer\n",
        "from sklearn.impute import SimpleImputer,KNNImputer,IterativeImputer\n",
        "from sklearn.preprocessing import OneHotEncoder\n",
        "plotsize = (13, 5)\n",
        "from statsmodels.tsa.stattools import adfuller\n",
        "\n",
        "# libraries for modeling\n",
        "from pandas.plotting import register_matplotlib_converters\n",
        "from statsmodels.tsa.stattools import acf, pacf\n",
        "from statsmodels.tsa.arima.model import ARIMA\n",
        "register_matplotlib_converters()\n",
        "from time import time\n",
        "from statsmodels.graphics.tsaplots import plot_acf, plot_pacf, month_plot, quarter_plot\n",
        "from sklearn.cluster import KMeans\n",
        "from sklearn.preprocessing import StandardScaler, MinMaxScaler, RobustScaler\n",
        "from sklearn.metrics import silhouette_score\n",
        "\n",
        "# for removing warnings\n",
        "import warnings\n",
        "warnings.filterwarnings(\"ignore\")\n",
        "\n",
        "import os\n",
        "for dirname, _, filenames in os.walk('/kaggle/input'):\n",
        "    for filename in filenames:\n",
        "        print(os.path.join(dirname, filename))"
      ],
      "metadata": {
        "_cell_guid": "b1076dfc-b9ad-4769-8c92-a6c4dae69d19",
        "_uuid": "8f2839f25d086af736a60e9eeb907d3b93b6e0e5",
        "execution": {
          "iopub.execute_input": "2024-09-12T20:20:18.812138Z",
          "iopub.status.busy": "2024-09-12T20:20:18.811618Z",
          "iopub.status.idle": "2024-09-12T20:20:18.830748Z",
          "shell.execute_reply": "2024-09-12T20:20:18.829514Z",
          "shell.execute_reply.started": "2024-09-12T20:20:18.812085Z"
        },
        "jupyter": {
          "source_hidden": true
        },
        "id": "T1t7CpGXCvDN"
      },
      "execution_count": null,
      "outputs": []
    },
    {
      "cell_type": "code",
      "source": [
        "# adjusting display options to make sure all columns are visible and up to 100 rows can be displayed\n",
        "pd.set_option('display.max_columns', None)\n",
        "pd.set_option('display.max_rows', 50)\n",
        "pd.set_option('display.max_colwidth', None)"
      ],
      "metadata": {
        "execution": {
          "iopub.execute_input": "2024-09-12T20:20:19.568683Z",
          "iopub.status.busy": "2024-09-12T20:20:19.568216Z",
          "iopub.status.idle": "2024-09-12T20:20:19.575161Z",
          "shell.execute_reply": "2024-09-12T20:20:19.573761Z",
          "shell.execute_reply.started": "2024-09-12T20:20:19.568638Z"
        },
        "id": "vINbi7pwCvDN"
      },
      "execution_count": null,
      "outputs": []
    },
    {
      "cell_type": "code",
      "source": [
        "df_cities = pd.read_csv('GlobalLandTemperaturesByCity.csv')"
      ],
      "metadata": {
        "execution": {
          "iopub.execute_input": "2024-09-12T20:20:20.260849Z",
          "iopub.status.busy": "2024-09-12T20:20:20.260376Z",
          "iopub.status.idle": "2024-09-12T20:20:34.242336Z",
          "shell.execute_reply": "2024-09-12T20:20:34.241045Z",
          "shell.execute_reply.started": "2024-09-12T20:20:20.260804Z"
        },
        "id": "OEkqjzDPCvDN"
      },
      "execution_count": null,
      "outputs": []
    },
    {
      "cell_type": "code",
      "source": [
        "df_egy = df_cities[df_cities[\"Country\"] == \"Egypt\"]"
      ],
      "metadata": {
        "execution": {
          "iopub.execute_input": "2024-09-12T20:20:34.245136Z",
          "iopub.status.busy": "2024-09-12T20:20:34.244664Z",
          "iopub.status.idle": "2024-09-12T20:20:35.920225Z",
          "shell.execute_reply": "2024-09-12T20:20:35.919086Z",
          "shell.execute_reply.started": "2024-09-12T20:20:34.245089Z"
        },
        "id": "TfBsJfw2CvDO"
      },
      "execution_count": null,
      "outputs": []
    },
    {
      "cell_type": "markdown",
      "source": [
        "# Data summary"
      ],
      "metadata": {
        "id": "j8MNMh0CCvDO"
      }
    },
    {
      "cell_type": "code",
      "source": [
        "df_egy"
      ],
      "metadata": {
        "execution": {
          "iopub.execute_input": "2024-09-12T20:45:07.983929Z",
          "iopub.status.busy": "2024-09-12T20:45:07.982879Z",
          "iopub.status.idle": "2024-09-12T20:45:08.007555Z",
          "shell.execute_reply": "2024-09-12T20:45:08.006264Z",
          "shell.execute_reply.started": "2024-09-12T20:45:07.983829Z"
        },
        "id": "l1nJ19f-CvDO"
      },
      "execution_count": null,
      "outputs": []
    },
    {
      "cell_type": "code",
      "source": [
        "df_egy.shape"
      ],
      "metadata": {
        "execution": {
          "iopub.execute_input": "2024-09-12T17:52:16.660473Z",
          "iopub.status.busy": "2024-09-12T17:52:16.659985Z",
          "iopub.status.idle": "2024-09-12T17:52:16.669914Z",
          "shell.execute_reply": "2024-09-12T17:52:16.668833Z",
          "shell.execute_reply.started": "2024-09-12T17:52:16.660421Z"
        },
        "id": "OmO0QrlTCvDP"
      },
      "execution_count": null,
      "outputs": []
    },
    {
      "cell_type": "code",
      "source": [
        "df_egy['City'].value_counts()"
      ],
      "metadata": {
        "execution": {
          "iopub.execute_input": "2024-09-12T20:46:07.896994Z",
          "iopub.status.busy": "2024-09-12T20:46:07.896494Z",
          "iopub.status.idle": "2024-09-12T20:46:07.916156Z",
          "shell.execute_reply": "2024-09-12T20:46:07.914641Z",
          "shell.execute_reply.started": "2024-09-12T20:46:07.896931Z"
        },
        "id": "qe9wsvuDCvDP"
      },
      "execution_count": null,
      "outputs": []
    },
    {
      "cell_type": "code",
      "source": [
        "df_egy.isnull().sum()"
      ],
      "metadata": {
        "execution": {
          "iopub.execute_input": "2024-09-12T17:52:16.721075Z",
          "iopub.status.busy": "2024-09-12T17:52:16.720693Z",
          "iopub.status.idle": "2024-09-12T17:52:16.756977Z",
          "shell.execute_reply": "2024-09-12T17:52:16.75588Z",
          "shell.execute_reply.started": "2024-09-12T17:52:16.721028Z"
        },
        "id": "M8DZQ6GQCvDP"
      },
      "execution_count": null,
      "outputs": []
    },
    {
      "cell_type": "code",
      "source": [
        "df_egy.duplicated().sum()"
      ],
      "metadata": {
        "execution": {
          "iopub.execute_input": "2024-09-12T17:52:17.290115Z",
          "iopub.status.busy": "2024-09-12T17:52:17.289732Z",
          "iopub.status.idle": "2024-09-12T17:52:17.325993Z",
          "shell.execute_reply": "2024-09-12T17:52:17.324858Z",
          "shell.execute_reply.started": "2024-09-12T17:52:17.290075Z"
        },
        "id": "UmsP7lcmCvDP"
      },
      "execution_count": null,
      "outputs": []
    },
    {
      "cell_type": "code",
      "source": [
        "df_egy.describe().T"
      ],
      "metadata": {
        "execution": {
          "iopub.execute_input": "2024-09-12T17:52:16.690369Z",
          "iopub.status.busy": "2024-09-12T17:52:16.689982Z",
          "iopub.status.idle": "2024-09-12T17:52:16.719132Z",
          "shell.execute_reply": "2024-09-12T17:52:16.718032Z",
          "shell.execute_reply.started": "2024-09-12T17:52:16.69033Z"
        },
        "id": "ZSBx6vVVCvDP"
      },
      "execution_count": null,
      "outputs": []
    },
    {
      "cell_type": "markdown",
      "source": [
        "### We observe that there is 19 city/region in our dataset with 47248 entries and 7 features, no duplicates , and a few missing values in the average tempreature features\n"
      ],
      "metadata": {
        "id": "8Cz0rpYoCvDP"
      }
    },
    {
      "cell_type": "code",
      "source": [
        "import geopandas as gpd\n",
        "\n",
        "# Sample data for city average temperatures\n",
        "data = {\n",
        "    'City': ['Alexandria', 'Aswan', 'Asyut', 'Benha', 'Beni Suef', 'Cairo', 'Dekernes', 'El Faiyûm', 'El Mahalla El Kubra',\n",
        "             'Gizeh', 'Ismailia', 'Luxor', 'Port Said', 'Qalyub', 'Qena', 'Sohag', 'Suez', 'Talkha', 'Tanta'],\n",
        "    'AverageTemperature': [23, 30, 28, 25, 26, 27, 24, 26, 23, 27, 29, 31, 24, 25, 29, 28, 27, 24, 25],\n",
        "    'Latitude': [31.2, 24.09, 27.18, 30.47, 29.07, 30.04, 31.18, 29.31, 30.97, 30.01, 30.6, 25.69, 31.26, 30.18, 26.17, 26.56, 29.96, 31.05, 30.79],\n",
        "    'Longitude': [29.91, 32.89, 31.18, 31.18, 30.81, 31.24, 31.57, 30.84, 31.17, 31.21, 32.27, 32.65, 32.28, 30.12, 32.67, 31.7, 32.55, 31.38, 31.03]\n",
        "}\n",
        "\n",
        "df_cities = pd.DataFrame(data)\n",
        "\n",
        "# Create a Geopandas GeoDataFrame for plotting\n",
        "gdf_cities = gpd.GeoDataFrame(df_cities,\n",
        "                              geometry=gpd.points_from_xy(df_cities['Longitude'], df_cities['Latitude']))\n",
        "\n",
        "# Plot the cities with colors based on average temperatures\n",
        "fig, ax = plt.subplots(figsize=(8, 8))\n",
        "\n",
        "# Scatter plot of cities, with color representing temperature\n",
        "scatter = ax.scatter(df_cities['Longitude'], df_cities['Latitude'],\n",
        "                     c=df_cities['AverageTemperature'], cmap='coolwarm', s=100, edgecolor='black')\n",
        "\n",
        "# Annotate each city\n",
        "for i, row in df_cities.iterrows():\n",
        "    ax.text(row['Longitude'], row['Latitude'], row['City'], fontsize=8, ha='right')\n",
        "\n",
        "# Add a colorbar\n",
        "cbar = plt.colorbar(scatter, ax=ax)\n",
        "cbar.set_label('Average Temperature (°C)')\n",
        "\n",
        "# Set axis limits to focus on Egypt\n",
        "ax.set_xlim(25, 35)\n",
        "ax.set_ylim(22, 32)\n",
        "ax.set_title('Average Temperatures in Egyptian Cities')\n",
        "\n",
        "plt.xlabel('Longitude')\n",
        "plt.ylabel('Latitude')\n",
        "\n",
        "plt.grid(True)\n",
        "plt.tight_layout()\n",
        "plt.show()\n"
      ],
      "metadata": {
        "execution": {
          "iopub.execute_input": "2024-09-12T20:20:35.946726Z",
          "iopub.status.busy": "2024-09-12T20:20:35.946298Z",
          "iopub.status.idle": "2024-09-12T20:20:36.83684Z",
          "shell.execute_reply": "2024-09-12T20:20:36.835524Z",
          "shell.execute_reply.started": "2024-09-12T20:20:35.946678Z"
        },
        "jupyter": {
          "source_hidden": true
        },
        "id": "S9LmJ9VNCvDP"
      },
      "execution_count": null,
      "outputs": []
    },
    {
      "cell_type": "markdown",
      "source": [
        "### The map indicates that temperatures generally increase as we move south towards Upper Egypt, due to its proximity to the equator.\n",
        "\n",
        "\n",
        "\n",
        "\n",
        "\n"
      ],
      "metadata": {
        "id": "jhPHJ1LkCvDQ"
      }
    },
    {
      "cell_type": "code",
      "source": [
        "import pandas as pd\n",
        "import numpy as np\n",
        "import plotly.graph_objs as go\n",
        "from scipy import stats\n",
        "\n",
        "# Assuming df_cities is already loaded\n",
        "\n",
        "# Extract the year from the date\n",
        "egypt_data['Year'] = egypt_data['dt'].apply(lambda x: x[:4])\n",
        "\n",
        "# Group by year and calculate the average temperature and uncertainty\n",
        "egypt_yearly = egypt_data.groupby('Year').agg({\n",
        "    'AverageTemperature': 'mean',\n",
        "    'AverageTemperatureUncertainty': 'mean'\n",
        "}).reset_index()\n",
        "\n",
        "# Extract the values\n",
        "years = egypt_yearly['Year'].astype(int).values\n",
        "mean_temp_egypt = egypt_yearly['AverageTemperature'].values\n",
        "mean_temp_egypt_uncertainty = egypt_yearly['AverageTemperatureUncertainty'].values\n",
        "\n",
        "# Calculate the trend line (linear regression)\n",
        "slope, intercept, r_value, p_value, std_err = stats.linregress(years, mean_temp_egypt)\n",
        "trend_line = slope * years + intercept\n",
        "\n",
        "# Create traces for the plot\n",
        "trace0 = go.Scatter(\n",
        "    x=years,\n",
        "    y=mean_temp_egypt + mean_temp_egypt_uncertainty,\n",
        "    fill=None,\n",
        "    mode='lines',\n",
        "    name='Uncertainty top',\n",
        "    line=dict(color='rgb(0, 255, 255)')\n",
        ")\n",
        "\n",
        "trace1 = go.Scatter(\n",
        "    x=years,\n",
        "    y=mean_temp_egypt - mean_temp_egypt_uncertainty,\n",
        "    fill='tonexty',\n",
        "    mode='lines',\n",
        "    name='Uncertainty bot',\n",
        "    line=dict(color='rgb(0, 255, 255)')\n",
        ")\n",
        "\n",
        "trace2 = go.Scatter(\n",
        "    x=years,\n",
        "    y=mean_temp_egypt,\n",
        "    name='Average Temperature',\n",
        "    line=dict(color='rgb(199, 121, 093)')\n",
        ")\n",
        "\n",
        "# Add the trend line\n",
        "trace3 = go.Scatter(\n",
        "    x=years,\n",
        "    y=trend_line,\n",
        "    name='Trend Line',\n",
        "    line=dict(color='rgb(255, 0, 0)', dash='dash')\n",
        ")\n",
        "\n",
        "# Add a vertical line to indicate the start of global warming (around 1970)\n",
        "global_warming_start_year = 1970\n",
        "\n",
        "trace4 = go.Scatter(\n",
        "    x=[global_warming_start_year, global_warming_start_year],\n",
        "    y=[min(mean_temp_egypt - mean_temp_egypt_uncertainty), max(mean_temp_egypt + mean_temp_egypt_uncertainty)],\n",
        "    mode='lines',\n",
        "    name='Start of Global Warming',\n",
        "    line=dict(color='rgb(0, 100, 0)', dash='dot')\n",
        ")\n",
        "\n",
        "data = [trace0, trace1, trace2, trace3, trace4]\n",
        "\n",
        "layout = go.Layout(\n",
        "    xaxis=dict(title='Year'),\n",
        "    yaxis=dict(title='Average Temperature, °C'),\n",
        "    title='Average Land Temperature in Egypt with Trend Line and Global Warming Start',\n",
        "    showlegend=True\n",
        ")\n",
        "\n",
        "fig = go.Figure(data=data, layout=layout)\n",
        "fig.show()\n"
      ],
      "metadata": {
        "execution": {
          "iopub.execute_input": "2024-09-12T20:20:36.839234Z",
          "iopub.status.busy": "2024-09-12T20:20:36.838663Z",
          "iopub.status.idle": "2024-09-12T20:20:36.906452Z",
          "shell.execute_reply": "2024-09-12T20:20:36.905186Z",
          "shell.execute_reply.started": "2024-09-12T20:20:36.839172Z"
        },
        "jupyter": {
          "source_hidden": true
        },
        "id": "2fr3obVNCvDQ"
      },
      "execution_count": null,
      "outputs": []
    },
    {
      "cell_type": "code",
      "source": [
        "import pandas as pd\n",
        "import matplotlib.pyplot as plt\n",
        "import seaborn as sns\n",
        "\n",
        "# Convert 'dt' to datetime format\n",
        "df_egy['dt'] = pd.to_datetime(df_egy['dt'])\n",
        "\n",
        "# Set the theme for Seaborn\n",
        "sns.set_theme(style=\"darkgrid\")\n",
        "\n",
        "# Plotting the temperature trends for each city\n",
        "plt.figure(figsize=(16, 10))\n",
        "\n",
        "# Creating a lineplot for each city\n",
        "sns.lineplot(data=df_egy, x='dt', y='AverageTemperature', hue='City', marker='o')\n",
        "\n",
        "# Adding titles and labels\n",
        "plt.title('Temperature Trends in Various Egyptian Cities (1791-2013)', fontsize=18)\n",
        "plt.xlabel('Year', fontsize=14)\n",
        "plt.ylabel('Average Temperature (°C)', fontsize=14)\n",
        "plt.legend(title='City', bbox_to_anchor=(1.05, 1), loc='upper left')\n",
        "plt.grid(True)\n",
        "\n",
        "plt.tight_layout()\n",
        "plt.show()\n"
      ],
      "metadata": {
        "execution": {
          "iopub.execute_input": "2024-09-12T20:22:34.278725Z",
          "iopub.status.busy": "2024-09-12T20:22:34.278274Z",
          "iopub.status.idle": "2024-09-12T20:22:37.155965Z",
          "shell.execute_reply": "2024-09-12T20:22:37.154455Z",
          "shell.execute_reply.started": "2024-09-12T20:22:34.278681Z"
        },
        "jupyter": {
          "source_hidden": true
        },
        "id": "LkYBM-smCvDQ"
      },
      "execution_count": null,
      "outputs": []
    },
    {
      "cell_type": "markdown",
      "source": [
        "### The average temperature has been rising, with a notable increase around 1970, coinciding with the peak of the industrial revolution and the expansion of factories, which contributed significantly to global warming.\n",
        "\n",
        "\n",
        "\n",
        "\n",
        "\n",
        "\n"
      ],
      "metadata": {
        "id": "rI30QCq-CvDQ"
      }
    },
    {
      "cell_type": "code",
      "source": [
        "df_egy['Month'] = df_egy['dt'].dt.month\n",
        "\n",
        "# Plot\n",
        "plt.figure(figsize=(16, 10))\n",
        "sns.lineplot(data=df_egy, x='Month', y='AverageTemperature', hue='City', marker='o')\n",
        "plt.title('Seasonal Temperature Patterns in Egyptian Cities', fontsize=18)\n",
        "plt.xlabel('Month', fontsize=14)\n",
        "plt.ylabel('Average Temperature (°C)', fontsize=14)\n",
        "plt.xticks(range(1, 13), ['Jan', 'Feb', 'Mar', 'Apr', 'May', 'Jun', 'Jul', 'Aug', 'Sep', 'Oct', 'Nov', 'Dec'])\n",
        "plt.legend(title='City', bbox_to_anchor=(1.05, 1), loc='upper left')\n",
        "plt.grid(True)\n",
        "plt.tight_layout()\n",
        "plt.show()"
      ],
      "metadata": {
        "execution": {
          "iopub.execute_input": "2024-09-12T20:29:47.440141Z",
          "iopub.status.busy": "2024-09-12T20:29:47.439635Z",
          "iopub.status.idle": "2024-09-12T20:29:55.835893Z",
          "shell.execute_reply": "2024-09-12T20:29:55.834662Z",
          "shell.execute_reply.started": "2024-09-12T20:29:47.440088Z"
        },
        "jupyter": {
          "source_hidden": true
        },
        "id": "fq1cx88CCvDQ"
      },
      "execution_count": null,
      "outputs": []
    },
    {
      "cell_type": "markdown",
      "source": [
        "### The peak temperatures throughout the year occur from June to October.\n",
        "\n",
        "\n",
        "\n",
        "\n",
        "\n"
      ],
      "metadata": {
        "id": "b0gI2HhGCvDQ"
      }
    },
    {
      "cell_type": "markdown",
      "source": [
        "# Renaming columns"
      ],
      "metadata": {
        "id": "e2WRugOOCvDQ"
      }
    },
    {
      "cell_type": "code",
      "source": [
        "df_egy = df_egy.rename(columns={'dt': 'date'})"
      ],
      "metadata": {
        "execution": {
          "iopub.execute_input": "2024-09-12T20:54:34.820729Z",
          "iopub.status.busy": "2024-09-12T20:54:34.819424Z",
          "iopub.status.idle": "2024-09-12T20:54:34.830824Z",
          "shell.execute_reply": "2024-09-12T20:54:34.829659Z",
          "shell.execute_reply.started": "2024-09-12T20:54:34.820674Z"
        },
        "id": "7hDOZA_mCvDQ"
      },
      "execution_count": null,
      "outputs": []
    },
    {
      "cell_type": "code",
      "source": [
        "plt.figure(figsize=(12, 7))\n",
        "sns.heatmap(df_egy.isnull(), cbar=False, cmap='summer', yticklabels=False)\n",
        "plt.title('Missing Data Heatmap')\n",
        "plt.show()"
      ],
      "metadata": {
        "execution": {
          "iopub.execute_input": "2024-09-12T20:54:35.156026Z",
          "iopub.status.busy": "2024-09-12T20:54:35.155536Z",
          "iopub.status.idle": "2024-09-12T20:54:35.982942Z",
          "shell.execute_reply": "2024-09-12T20:54:35.981827Z",
          "shell.execute_reply.started": "2024-09-12T20:54:35.155968Z"
        },
        "id": "ISl022nbCvDQ"
      },
      "execution_count": null,
      "outputs": []
    },
    {
      "cell_type": "markdown",
      "source": [
        "# Feature Engineering"
      ],
      "metadata": {
        "id": "BPN5YRD0CvDR"
      }
    },
    {
      "cell_type": "markdown",
      "source": [
        "## Date Time Features"
      ],
      "metadata": {
        "id": "szpbqTe9CvDR"
      }
    },
    {
      "cell_type": "code",
      "source": [
        "df_featured = df_egy.copy()"
      ],
      "metadata": {
        "execution": {
          "iopub.execute_input": "2024-09-12T20:54:38.456046Z",
          "iopub.status.busy": "2024-09-12T20:54:38.455538Z",
          "iopub.status.idle": "2024-09-12T20:54:38.46337Z",
          "shell.execute_reply": "2024-09-12T20:54:38.462143Z",
          "shell.execute_reply.started": "2024-09-12T20:54:38.456Z"
        },
        "id": "9CsDTSIQCvDR"
      },
      "execution_count": null,
      "outputs": []
    },
    {
      "cell_type": "code",
      "source": [
        "df_featured['date'] = pd.to_datetime(df_featured['date'])"
      ],
      "metadata": {
        "execution": {
          "iopub.execute_input": "2024-09-12T20:54:39.230168Z",
          "iopub.status.busy": "2024-09-12T20:54:39.229009Z",
          "iopub.status.idle": "2024-09-12T20:54:39.251279Z",
          "shell.execute_reply": "2024-09-12T20:54:39.249941Z",
          "shell.execute_reply.started": "2024-09-12T20:54:39.230116Z"
        },
        "id": "TpKWWUnYCvDR"
      },
      "execution_count": null,
      "outputs": []
    },
    {
      "cell_type": "code",
      "source": [
        "df_featured['year'] = df_featured['date'].dt.year\n",
        "df_featured['month'] = df_featured['date'].dt.month"
      ],
      "metadata": {
        "execution": {
          "iopub.execute_input": "2024-09-12T20:54:39.909297Z",
          "iopub.status.busy": "2024-09-12T20:54:39.908812Z",
          "iopub.status.idle": "2024-09-12T20:54:39.92003Z",
          "shell.execute_reply": "2024-09-12T20:54:39.918698Z",
          "shell.execute_reply.started": "2024-09-12T20:54:39.909252Z"
        },
        "id": "OkNTiIcZCvDR"
      },
      "execution_count": null,
      "outputs": []
    },
    {
      "cell_type": "code",
      "source": [
        "def get_season(month):\n",
        "    if month in [12, 1, 2]:\n",
        "        return 'Winter'\n",
        "    elif month in [3, 4, 5]:\n",
        "        return 'Spring'\n",
        "    elif month in [6, 7, 8]:\n",
        "        return 'Summer'\n",
        "    elif month in [9, 10, 11]:\n",
        "        return 'Fall'"
      ],
      "metadata": {
        "execution": {
          "iopub.execute_input": "2024-09-12T20:54:40.676698Z",
          "iopub.status.busy": "2024-09-12T20:54:40.67621Z",
          "iopub.status.idle": "2024-09-12T20:54:40.68421Z",
          "shell.execute_reply": "2024-09-12T20:54:40.682814Z",
          "shell.execute_reply.started": "2024-09-12T20:54:40.676651Z"
        },
        "id": "_zb-nvexCvDR"
      },
      "execution_count": null,
      "outputs": []
    },
    {
      "cell_type": "code",
      "source": [
        "df_featured['season'] = df_featured['date'].dt.month.apply(get_season)"
      ],
      "metadata": {
        "execution": {
          "iopub.execute_input": "2024-09-12T20:54:41.541383Z",
          "iopub.status.busy": "2024-09-12T20:54:41.540044Z",
          "iopub.status.idle": "2024-09-12T20:54:41.571396Z",
          "shell.execute_reply": "2024-09-12T20:54:41.570006Z",
          "shell.execute_reply.started": "2024-09-12T20:54:41.541323Z"
        },
        "id": "XApZ5DTICvDR"
      },
      "execution_count": null,
      "outputs": []
    },
    {
      "cell_type": "code",
      "source": [
        "# Plot\n",
        "plt.figure(figsize=(12, 8))\n",
        "sns.boxplot(data=df_featured, x='season', y='AverageTemperature', palette='coolwarm')\n",
        "plt.title('Temperature Distribution by Season', fontsize=18)\n",
        "plt.xlabel('Season', fontsize=14)\n",
        "plt.ylabel('Average Temperature (°C)', fontsize=14)\n",
        "plt.grid(True)\n",
        "plt.tight_layout()\n",
        "plt.show()\n"
      ],
      "metadata": {
        "execution": {
          "iopub.execute_input": "2024-09-12T20:54:42.201691Z",
          "iopub.status.busy": "2024-09-12T20:54:42.201197Z",
          "iopub.status.idle": "2024-09-12T20:54:42.726475Z",
          "shell.execute_reply": "2024-09-12T20:54:42.724873Z",
          "shell.execute_reply.started": "2024-09-12T20:54:42.201644Z"
        },
        "id": "6MiRmMAaCvDR"
      },
      "execution_count": null,
      "outputs": []
    },
    {
      "cell_type": "markdown",
      "source": [
        "### Above shows the average tempreatures of seasons"
      ],
      "metadata": {
        "id": "dWWc5jGoCvDR"
      }
    },
    {
      "cell_type": "code",
      "source": [
        "import seaborn as sns\n",
        "import matplotlib.pyplot as plt\n",
        "\n",
        "# Ensure 'season' column is categorical with specific order\n",
        "season_order = ['Winter', 'Spring', 'Summer', 'Fall']\n",
        "df_featured['season'] = pd.Categorical(df_featured['season'], categories=season_order, ordered=True)\n",
        "\n",
        "# Compute the average temperature by season\n",
        "seasonal_avg_temp = df_featured.groupby('season')['AverageTemperature'].mean().reset_index()\n",
        "\n",
        "# Plot\n",
        "plt.figure(figsize=(10, 6))\n",
        "sns.barplot(data=seasonal_avg_temp, x='season', y='AverageTemperature', palette='coolwarm')\n",
        "plt.title('Average Temperature by Season', fontsize=18)\n",
        "plt.xlabel('Season', fontsize=14)\n",
        "plt.ylabel('Average Temperature (°C)', fontsize=14)\n",
        "plt.grid(True)\n",
        "plt.tight_layout()\n",
        "plt.show()\n"
      ],
      "metadata": {
        "execution": {
          "iopub.execute_input": "2024-09-12T20:56:41.173193Z",
          "iopub.status.busy": "2024-09-12T20:56:41.172701Z",
          "iopub.status.idle": "2024-09-12T20:56:41.611619Z",
          "shell.execute_reply": "2024-09-12T20:56:41.610291Z",
          "shell.execute_reply.started": "2024-09-12T20:56:41.173136Z"
        },
        "jupyter": {
          "source_hidden": true
        },
        "id": "zn9bbb6xCvDR"
      },
      "execution_count": null,
      "outputs": []
    },
    {
      "cell_type": "code",
      "source": [
        "# Compute anomalies\n",
        "baseline_avg_temp = df_featured.groupby('season')['AverageTemperature'].mean()\n",
        "df_featured['Anomaly'] = df_featured.apply(lambda row: row['AverageTemperature'] - baseline_avg_temp[row['season']], axis=1)\n",
        "\n",
        "# Compute average anomalies by season\n",
        "seasonal_anomalies = df_featured.groupby('season')['Anomaly'].mean().reset_index()\n",
        "\n",
        "# Plot\n",
        "plt.figure(figsize=(10, 6))\n",
        "sns.barplot(data=seasonal_anomalies, x='season', y='Anomaly', palette='coolwarm')\n",
        "plt.title('Average Temperature Anomalies by Season', fontsize=18)\n",
        "plt.xlabel('Season', fontsize=14)\n",
        "plt.ylabel('Temperature Anomaly (°C)', fontsize=14)\n",
        "plt.grid(True)\n",
        "plt.tight_layout()\n",
        "plt.show()\n"
      ],
      "metadata": {
        "execution": {
          "iopub.execute_input": "2024-09-12T20:55:54.765158Z",
          "iopub.status.busy": "2024-09-12T20:55:54.764665Z",
          "iopub.status.idle": "2024-09-12T20:55:56.330408Z",
          "shell.execute_reply": "2024-09-12T20:55:56.329147Z",
          "shell.execute_reply.started": "2024-09-12T20:55:54.765117Z"
        },
        "jupyter": {
          "source_hidden": true
        },
        "id": "N8hgs_71CvDR"
      },
      "execution_count": null,
      "outputs": []
    },
    {
      "cell_type": "markdown",
      "source": [
        "### The anomalies of seasons measure how much detoriation can happen in the season, and as we can observe summer is the season with most detoriations overall"
      ],
      "metadata": {
        "id": "mxeVCMdJCvDS"
      }
    },
    {
      "cell_type": "code",
      "source": [
        "# Compute average temperature for each season and year\n",
        "seasonal_temp_trend = df_featured.groupby(['Year', 'season'])['AverageTemperature'].mean().reset_index()\n",
        "\n",
        "# Plot\n",
        "plt.figure(figsize=(16, 10))\n",
        "sns.lineplot(data=seasonal_temp_trend, x='Year', y='AverageTemperature', hue='season', marker='o')\n",
        "plt.title('Seasonal Temperature Trends Over Time (1791-2013)', fontsize=18)\n",
        "plt.xlabel('Year', fontsize=14)\n",
        "plt.ylabel('Average Temperature (°C)', fontsize=14)\n",
        "plt.legend(title='Season', bbox_to_anchor=(1.05, 1), loc='upper left')\n",
        "plt.grid(True)\n",
        "plt.tight_layout()\n",
        "plt.show()\n"
      ],
      "metadata": {
        "execution": {
          "iopub.execute_input": "2024-09-12T20:56:53.404261Z",
          "iopub.status.busy": "2024-09-12T20:56:53.403764Z",
          "iopub.status.idle": "2024-09-12T20:56:54.200748Z",
          "shell.execute_reply": "2024-09-12T20:56:54.199609Z",
          "shell.execute_reply.started": "2024-09-12T20:56:53.404215Z"
        },
        "id": "pErS4wTHCvDS"
      },
      "execution_count": null,
      "outputs": []
    },
    {
      "cell_type": "markdown",
      "source": [
        "### This is the observation of the time changes and tempreature per season, the up trend is still seen"
      ],
      "metadata": {
        "id": "dD4BfTW1CvDS"
      }
    },
    {
      "cell_type": "markdown",
      "source": [
        "# EDA Summary\n",
        " 1. Seasonal Analysis:\n",
        "\n",
        " Average Temperature by Season: A bar plot visualized the average temperatures for each season, revealing how temperatures vary throughout the year. This helps understand seasonal patterns and average conditions.\n",
        "\n",
        " Seasonal Temperature Trends: Line plots depicted how temperatures for each season have evolved over the years. This visualization highlighted trends in seasonal temperatures, showing whether certain seasons have become warmer or cooler over time.\n",
        "\n",
        " Boxplot of Temperatures by Season: This plot displayed the distribution of temperatures within each season, including median, quartiles, and outliers. It provided insights into temperature variability and extremes for each season.\n",
        "\n",
        " Seasonal Temperature Anomalies: Bar plots displayed temperature anomalies for each season, comparing current temperatures against historical averages. This analysis helped identify unusual temperature patterns and extremes.\n",
        "\n",
        "* 2. Observations\n",
        " Geographical Trends:\n",
        " Temperatures generally increase as one moves south towards Upper Egypt due to proximity to the equator.\n",
        "\n",
        " Industrial Impact:\n",
        " There has been a notable rise in average temperatures since the industrial revolution, reflecting the impact of increased industrial activity on global    warming.\n",
        "\n",
        "Seasonal Patterns:\n",
        "\n",
        " * Winter: Generally the coolest season, with temperatures showing significant variation from year to year.\n",
        " * Spring: Marked by gradually rising temperatures; however, it can experience abrupt changes.\n",
        " * Summer: The hottest season with consistently high temperatures and potential for extreme heat events.\n",
        " * Autumn: Temperatures start to drop, showing a decrease towards winter, with some variability depending on the year.\n",
        "\n",
        "3. Additional Insights\n",
        " * Long-Term Trends: Analysis of long-term trends revealed that while average temperatures have been rising, the rate of increase varies by season. For example, summer  temperatures have risen more sharply compared to winter temperatures.\n",
        "\n",
        " * Seasonal Extremes: Some seasons, particularly summer, show increased frequency of temperature extremes, which could impact agriculture and water resources.\n",
        "\n",
        " * Comparative Analysis: Seasonal temperature anomalies highlighted periods where temperatures deviated significantly from historical norms, potentially indicating extreme weather events or shifts in climate patterns.\n",
        "\n",
        "4. Recommendations for Securing Crops and Resources\n",
        " * Monitor Seasonal Trends: Understanding how different seasons are affected by temperature changes can guide crop planning and resource management.\n",
        "\n",
        " * Implement Adaptive Strategies: Develop crop varieties that are resilient to extreme temperatures and adjust planting schedules based on seasonal temperature trends.\n",
        "\n",
        " * Climate-Resilient Practices: Incorporate water-saving techniques and soil management practices to mitigate the impact of rising temperatures on agriculture.\n",
        "\n",
        " * Early Warning Systems: Use temperature anomalies and seasonal data to set up early warning systems for extreme weather conditions, allowing for timely interventions."
      ],
      "metadata": {
        "id": "DHefnTxmCvDV"
      }
    },
    {
      "cell_type": "markdown",
      "source": [
        "## Lag Features"
      ],
      "metadata": {
        "id": "ysS5sV3QCvDV"
      }
    },
    {
      "cell_type": "code",
      "source": [
        "df_featured['Temperature 1 Month Change'] = df_featured['AverageTemperature'] - df_featured['AverageTemperature'].shift(1)"
      ],
      "metadata": {
        "execution": {
          "iopub.execute_input": "2024-09-12T17:52:17.430525Z",
          "iopub.status.busy": "2024-09-12T17:52:17.430083Z",
          "iopub.status.idle": "2024-09-12T17:52:17.438462Z",
          "shell.execute_reply": "2024-09-12T17:52:17.437337Z",
          "shell.execute_reply.started": "2024-09-12T17:52:17.430457Z"
        },
        "id": "K2QIEZlcCvDV"
      },
      "execution_count": null,
      "outputs": []
    },
    {
      "cell_type": "markdown",
      "source": [
        "## Climate Regions Feature"
      ],
      "metadata": {
        "id": "5K7lwTF0CvDW"
      }
    },
    {
      "cell_type": "code",
      "source": [
        "def classify_climate_region(row):\n",
        "    lat = float(row['Latitude'][:-1])\n",
        "    if lat >= 30.0:\n",
        "        return 'Mediterranean'\n",
        "    elif lat < 30.0 and lat > 23.5:\n",
        "        return 'Desert'\n",
        "    else:\n",
        "        return 'Other'"
      ],
      "metadata": {
        "execution": {
          "iopub.execute_input": "2024-09-12T17:52:17.440061Z",
          "iopub.status.busy": "2024-09-12T17:52:17.439694Z",
          "iopub.status.idle": "2024-09-12T17:52:17.449252Z",
          "shell.execute_reply": "2024-09-12T17:52:17.448248Z",
          "shell.execute_reply.started": "2024-09-12T17:52:17.44001Z"
        },
        "id": "zcRPm8xgCvDW"
      },
      "execution_count": null,
      "outputs": []
    },
    {
      "cell_type": "code",
      "source": [
        "df_featured['ClimateRegion'] = df_featured.apply(classify_climate_region, axis=1)"
      ],
      "metadata": {
        "execution": {
          "iopub.execute_input": "2024-09-12T17:52:17.451077Z",
          "iopub.status.busy": "2024-09-12T17:52:17.45071Z",
          "iopub.status.idle": "2024-09-12T17:52:18.264641Z",
          "shell.execute_reply": "2024-09-12T17:52:18.263596Z",
          "shell.execute_reply.started": "2024-09-12T17:52:17.451032Z"
        },
        "id": "sQ4oHGQ-CvDW"
      },
      "execution_count": null,
      "outputs": []
    },
    {
      "cell_type": "code",
      "source": [
        "numeric_data = df_featured.select_dtypes(include=['number'])\n",
        "categorical_data = df_featured.select_dtypes(exclude=['number'])"
      ],
      "metadata": {
        "execution": {
          "iopub.execute_input": "2024-09-12T17:52:18.266754Z",
          "iopub.status.busy": "2024-09-12T17:52:18.266271Z",
          "iopub.status.idle": "2024-09-12T17:52:18.281426Z",
          "shell.execute_reply": "2024-09-12T17:52:18.280183Z",
          "shell.execute_reply.started": "2024-09-12T17:52:18.266699Z"
        },
        "id": "fquj4eVwCvDW"
      },
      "execution_count": null,
      "outputs": []
    },
    {
      "cell_type": "markdown",
      "source": [
        "# Handling Missing Values (NULLS)"
      ],
      "metadata": {
        "id": "BTGtssBQCvDW"
      }
    },
    {
      "cell_type": "markdown",
      "source": [
        "Several approaches exist, each with distinct strengths:\n",
        "\n",
        "1. **Removing Missing Records**: The simplest approach, but it risks losing valuable data if too many records are discarded.\n",
        "2. **Statistical Imputation**: Fills missing values using the mean, median, or mode, offering a quick fix while maintaining dataset integrity.\n",
        "3. **KNN Imputation**: More advanced, it leverages similar data points to estimate missing values, ensuring better context-driven predictions.\n",
        "4. **Iterative Imputation**: A machine learning-based method that predicts missing values by modeling relationships with other features, refining estimates iteratively.\n",
        "\n",
        "Each of these approaches will be tested, allowing us to determine the best-performing combination for our dataset."
      ],
      "metadata": {
        "id": "zqvy9ueOCvDW"
      }
    },
    {
      "cell_type": "markdown",
      "source": [
        "## 1. Removing Missing Records"
      ],
      "metadata": {
        "id": "C9EjFIIvCvDW"
      }
    },
    {
      "cell_type": "code",
      "source": [
        "def remove_nulls(df):\n",
        "    df_cleaned = df.dropna()\n",
        "\n",
        "    return df_cleaned"
      ],
      "metadata": {
        "execution": {
          "iopub.execute_input": "2024-09-12T17:52:18.283481Z",
          "iopub.status.busy": "2024-09-12T17:52:18.283004Z",
          "iopub.status.idle": "2024-09-12T17:52:18.291919Z",
          "shell.execute_reply": "2024-09-12T17:52:18.290551Z",
          "shell.execute_reply.started": "2024-09-12T17:52:18.283424Z"
        },
        "id": "9qlxAUcBCvDW"
      },
      "execution_count": null,
      "outputs": []
    },
    {
      "cell_type": "code",
      "source": [
        "df_remove_nulls = remove_nulls(df_featured)"
      ],
      "metadata": {
        "execution": {
          "iopub.execute_input": "2024-09-12T17:52:18.294726Z",
          "iopub.status.busy": "2024-09-12T17:52:18.293633Z",
          "iopub.status.idle": "2024-09-12T17:52:18.339119Z",
          "shell.execute_reply": "2024-09-12T17:52:18.338056Z",
          "shell.execute_reply.started": "2024-09-12T17:52:18.294673Z"
        },
        "id": "mQwwW9ovCvDW"
      },
      "execution_count": null,
      "outputs": []
    },
    {
      "cell_type": "code",
      "source": [
        "df_remove_nulls.isnull().sum()"
      ],
      "metadata": {
        "execution": {
          "iopub.execute_input": "2024-09-12T17:52:18.341107Z",
          "iopub.status.busy": "2024-09-12T17:52:18.340751Z",
          "iopub.status.idle": "2024-09-12T17:52:18.381478Z",
          "shell.execute_reply": "2024-09-12T17:52:18.380337Z",
          "shell.execute_reply.started": "2024-09-12T17:52:18.34107Z"
        },
        "id": "PyHTSDYOCvDW"
      },
      "execution_count": null,
      "outputs": []
    },
    {
      "cell_type": "markdown",
      "source": [
        "## 2. Statistical Imputation:"
      ],
      "metadata": {
        "id": "-2moG9DiCvDX"
      }
    },
    {
      "cell_type": "code",
      "source": [
        "def statistical_impute(df, method):\n",
        "    numeric_data = df.select_dtypes(include=['number'])\n",
        "    categorical_data = df.select_dtypes(exclude=['number'])\n",
        "\n",
        "    if method in ['mean', 'median']:\n",
        "        imputer_numeric = SimpleImputer(strategy=method)\n",
        "        df[numeric_data.columns] = imputer_numeric.fit_transform(numeric_data)\n",
        "    elif method == 'most_frequent':\n",
        "        imputer_non_numeric = SimpleImputer(strategy='most_frequent')\n",
        "        df[categorical_data.columns] = imputer_non_numeric.fit_transform(categorical_data)\n",
        "    else:\n",
        "        raise ValueError(\"Method should be 'mean', 'median' for numeric columns or 'most_frequent' for categorical columns.\")\n",
        "\n",
        "    return df"
      ],
      "metadata": {
        "execution": {
          "iopub.execute_input": "2024-09-12T17:52:18.384157Z",
          "iopub.status.busy": "2024-09-12T17:52:18.383264Z",
          "iopub.status.idle": "2024-09-12T17:52:18.392048Z",
          "shell.execute_reply": "2024-09-12T17:52:18.390785Z",
          "shell.execute_reply.started": "2024-09-12T17:52:18.384101Z"
        },
        "id": "VaNH37mvCvDX"
      },
      "execution_count": null,
      "outputs": []
    },
    {
      "cell_type": "code",
      "source": [
        "df_statistical_impute_mean = statistical_impute(df_featured,'mean')\n",
        "df_statistical_impute_median = statistical_impute(df_featured,'median')\n",
        "df_statistical_impute_most_frequent = statistical_impute(df_featured,'most_frequent')"
      ],
      "metadata": {
        "execution": {
          "iopub.execute_input": "2024-09-12T17:52:18.393775Z",
          "iopub.status.busy": "2024-09-12T17:52:18.393392Z",
          "iopub.status.idle": "2024-09-12T17:52:19.141607Z",
          "shell.execute_reply": "2024-09-12T17:52:19.140358Z",
          "shell.execute_reply.started": "2024-09-12T17:52:18.393737Z"
        },
        "id": "PMBchFVmCvDX"
      },
      "execution_count": null,
      "outputs": []
    },
    {
      "cell_type": "code",
      "source": [
        "df_statistical_impute_mean.isnull().sum()"
      ],
      "metadata": {
        "execution": {
          "iopub.execute_input": "2024-09-12T17:52:19.143842Z",
          "iopub.status.busy": "2024-09-12T17:52:19.143441Z",
          "iopub.status.idle": "2024-09-12T17:52:19.185962Z",
          "shell.execute_reply": "2024-09-12T17:52:19.184911Z",
          "shell.execute_reply.started": "2024-09-12T17:52:19.143802Z"
        },
        "id": "EHZFteTLCvDX"
      },
      "execution_count": null,
      "outputs": []
    },
    {
      "cell_type": "code",
      "source": [
        "df_statistical_impute_median.isnull().sum()"
      ],
      "metadata": {
        "execution": {
          "iopub.execute_input": "2024-09-12T17:52:19.187844Z",
          "iopub.status.busy": "2024-09-12T17:52:19.18743Z",
          "iopub.status.idle": "2024-09-12T17:52:19.230641Z",
          "shell.execute_reply": "2024-09-12T17:52:19.229561Z",
          "shell.execute_reply.started": "2024-09-12T17:52:19.187804Z"
        },
        "id": "ueI31o3_CvDX"
      },
      "execution_count": null,
      "outputs": []
    },
    {
      "cell_type": "code",
      "source": [
        "df_statistical_impute_most_frequent.isnull().sum()"
      ],
      "metadata": {
        "execution": {
          "iopub.execute_input": "2024-09-12T17:52:19.232568Z",
          "iopub.status.busy": "2024-09-12T17:52:19.232187Z",
          "iopub.status.idle": "2024-09-12T17:52:19.27547Z",
          "shell.execute_reply": "2024-09-12T17:52:19.274346Z",
          "shell.execute_reply.started": "2024-09-12T17:52:19.232519Z"
        },
        "id": "kZNiPZfdCvDX"
      },
      "execution_count": null,
      "outputs": []
    },
    {
      "cell_type": "markdown",
      "source": [
        "## 3. KNN Imputation"
      ],
      "metadata": {
        "id": "Xs7Beh4aCvDX"
      }
    },
    {
      "cell_type": "code",
      "source": [
        "from sklearn.impute import KNNImputer\n",
        "import pandas as pd\n",
        "\n",
        "def knn_impute(df, n_neighbors, weights, metric):\n",
        "    numeric_data = df.select_dtypes(include=['number'])\n",
        "    categorical_data = df.select_dtypes(exclude=['number'])\n",
        "\n",
        "    imputer = KNNImputer(n_neighbors=n_neighbors, weights=weights, metric=metric)\n",
        "    imputed_array = imputer.fit_transform(numeric_data)\n",
        "\n",
        "    df_imputed = pd.DataFrame(imputed_array, columns=numeric_data.columns, index=df.index)\n",
        "\n",
        "    df_combined = pd.concat([df_imputed, categorical_data], axis=1)\n",
        "\n",
        "    return df_combined"
      ],
      "metadata": {
        "execution": {
          "iopub.execute_input": "2024-09-12T17:52:19.277316Z",
          "iopub.status.busy": "2024-09-12T17:52:19.276878Z",
          "iopub.status.idle": "2024-09-12T17:52:19.284937Z",
          "shell.execute_reply": "2024-09-12T17:52:19.283833Z",
          "shell.execute_reply.started": "2024-09-12T17:52:19.277274Z"
        },
        "id": "8xfJy9VyCvDX"
      },
      "execution_count": null,
      "outputs": []
    },
    {
      "cell_type": "code",
      "source": [
        "df_knn_impute = knn_impute(df_featured,5,'uniform','nan_euclidean')"
      ],
      "metadata": {
        "execution": {
          "iopub.execute_input": "2024-09-12T17:52:19.286917Z",
          "iopub.status.busy": "2024-09-12T17:52:19.286456Z",
          "iopub.status.idle": "2024-09-12T17:52:19.312958Z",
          "shell.execute_reply": "2024-09-12T17:52:19.312028Z",
          "shell.execute_reply.started": "2024-09-12T17:52:19.286868Z"
        },
        "id": "JKvehZ7cCvDY"
      },
      "execution_count": null,
      "outputs": []
    },
    {
      "cell_type": "code",
      "source": [
        "df_knn_impute.isnull().sum()"
      ],
      "metadata": {
        "execution": {
          "iopub.execute_input": "2024-09-12T17:52:19.314896Z",
          "iopub.status.busy": "2024-09-12T17:52:19.314413Z",
          "iopub.status.idle": "2024-09-12T17:52:19.357494Z",
          "shell.execute_reply": "2024-09-12T17:52:19.356327Z",
          "shell.execute_reply.started": "2024-09-12T17:52:19.314844Z"
        },
        "id": "kToFoXWhCvDY"
      },
      "execution_count": null,
      "outputs": []
    },
    {
      "cell_type": "markdown",
      "source": [
        "## 4. Iterative Imputation"
      ],
      "metadata": {
        "id": "3Dgc3DZeCvDY"
      }
    },
    {
      "cell_type": "code",
      "source": [
        "def iterative_impute(df, max_iter, random_state):\n",
        "    numeric_data = df.select_dtypes(include=['number'])\n",
        "    categorical_data = df.select_dtypes(exclude=['number'])\n",
        "\n",
        "    imputer = IterativeImputer(max_iter=max_iter, random_state=random_state)\n",
        "    imputed_array = imputer.fit_transform(numeric_data)\n",
        "\n",
        "    imputed_df = pd.DataFrame(imputed_array, columns=numeric_data.columns, index=df.index)\n",
        "\n",
        "    df_combined = pd.concat([imputed_df, categorical_data], axis=1)\n",
        "\n",
        "    return df_combined"
      ],
      "metadata": {
        "execution": {
          "iopub.execute_input": "2024-09-12T17:52:19.359358Z",
          "iopub.status.busy": "2024-09-12T17:52:19.358988Z",
          "iopub.status.idle": "2024-09-12T17:52:19.366944Z",
          "shell.execute_reply": "2024-09-12T17:52:19.36584Z",
          "shell.execute_reply.started": "2024-09-12T17:52:19.359319Z"
        },
        "id": "OaZatPa-CvDY"
      },
      "execution_count": null,
      "outputs": []
    },
    {
      "cell_type": "code",
      "source": [
        "df_iterative_impute = iterative_impute(df_featured , 100,42)"
      ],
      "metadata": {
        "execution": {
          "iopub.execute_input": "2024-09-12T17:52:19.368833Z",
          "iopub.status.busy": "2024-09-12T17:52:19.36839Z",
          "iopub.status.idle": "2024-09-12T17:52:19.574314Z",
          "shell.execute_reply": "2024-09-12T17:52:19.572733Z",
          "shell.execute_reply.started": "2024-09-12T17:52:19.368792Z"
        },
        "id": "NcwnGLpiCvDY"
      },
      "execution_count": null,
      "outputs": []
    },
    {
      "cell_type": "code",
      "source": [
        "df_iterative_impute.isnull().sum()"
      ],
      "metadata": {
        "execution": {
          "iopub.execute_input": "2024-09-12T17:52:19.577286Z",
          "iopub.status.busy": "2024-09-12T17:52:19.57666Z",
          "iopub.status.idle": "2024-09-12T17:52:19.653423Z",
          "shell.execute_reply": "2024-09-12T17:52:19.651829Z",
          "shell.execute_reply.started": "2024-09-12T17:52:19.577215Z"
        },
        "id": "wIWKthY-CvDY"
      },
      "execution_count": null,
      "outputs": []
    },
    {
      "cell_type": "markdown",
      "source": [
        "# Categorical Encoding\n",
        "- one-hot encoding : `City`,`season`,`ClimateRegion`\n",
        "- [cyclic encoding](https://shrmtmt.medium.com/understand-the-capabilities-of-cyclic-encoding-5b68f831387e) : `month`"
      ],
      "metadata": {
        "id": "9h3S5Qs-CvDY"
      }
    },
    {
      "cell_type": "code",
      "source": [
        "def encoding(df):\n",
        "\n",
        "# One-Hot Encoding for specific categorical features\n",
        "    one_hot_encoded_columns = ['City', 'season','ClimateRegion']\n",
        "    encoder = OneHotEncoder(drop='if_binary',sparse_output=False,handle_unknown='ignore')\n",
        "    encoded_cols = encoder.fit_transform(df[one_hot_encoded_columns])\n",
        "    df.drop(columns=one_hot_encoded_columns,inplace=True)\n",
        "    df[encoder.get_feature_names_out()]=encoded_cols\n",
        "\n",
        "    return df"
      ],
      "metadata": {
        "execution": {
          "iopub.execute_input": "2024-09-12T17:52:19.656474Z",
          "iopub.status.busy": "2024-09-12T17:52:19.656046Z",
          "iopub.status.idle": "2024-09-12T17:52:19.663262Z",
          "shell.execute_reply": "2024-09-12T17:52:19.661883Z",
          "shell.execute_reply.started": "2024-09-12T17:52:19.656431Z"
        },
        "id": "P9ep7E7QCvDY"
      },
      "execution_count": null,
      "outputs": []
    },
    {
      "cell_type": "code",
      "source": [
        "df_dncoded = encoding(df_statistical_impute_median)"
      ],
      "metadata": {
        "execution": {
          "iopub.execute_input": "2024-09-12T17:52:19.664897Z",
          "iopub.status.busy": "2024-09-12T17:52:19.664536Z",
          "iopub.status.idle": "2024-09-12T17:52:19.773488Z",
          "shell.execute_reply": "2024-09-12T17:52:19.77201Z",
          "shell.execute_reply.started": "2024-09-12T17:52:19.664859Z"
        },
        "id": "6n2eIZGOCvDZ"
      },
      "execution_count": null,
      "outputs": []
    },
    {
      "cell_type": "code",
      "source": [
        "df_dncoded.head(2)"
      ],
      "metadata": {
        "execution": {
          "iopub.execute_input": "2024-09-12T17:52:19.775279Z",
          "iopub.status.busy": "2024-09-12T17:52:19.774879Z",
          "iopub.status.idle": "2024-09-12T17:52:19.81801Z",
          "shell.execute_reply": "2024-09-12T17:52:19.816664Z",
          "shell.execute_reply.started": "2024-09-12T17:52:19.775237Z"
        },
        "id": "1ItxGyZ3CvDZ"
      },
      "execution_count": null,
      "outputs": []
    },
    {
      "cell_type": "markdown",
      "source": [
        "## Dropping Columns"
      ],
      "metadata": {
        "id": "-r4QWqUACvDZ"
      }
    },
    {
      "cell_type": "code",
      "source": [
        "df_egy_cleaned = df_dncoded.drop(columns=['Country','Longitude','Latitude'])"
      ],
      "metadata": {
        "execution": {
          "iopub.execute_input": "2024-09-12T17:52:19.832581Z",
          "iopub.status.busy": "2024-09-12T17:52:19.832135Z",
          "iopub.status.idle": "2024-09-12T17:52:19.846312Z",
          "shell.execute_reply": "2024-09-12T17:52:19.844917Z",
          "shell.execute_reply.started": "2024-09-12T17:52:19.832523Z"
        },
        "id": "uHy67rt-CvDZ"
      },
      "execution_count": null,
      "outputs": []
    },
    {
      "cell_type": "code",
      "source": [
        "df_egy_cleaned.head(2)"
      ],
      "metadata": {
        "execution": {
          "iopub.execute_input": "2024-09-12T17:52:19.848481Z",
          "iopub.status.busy": "2024-09-12T17:52:19.847723Z",
          "iopub.status.idle": "2024-09-12T17:52:19.889422Z",
          "shell.execute_reply": "2024-09-12T17:52:19.888277Z",
          "shell.execute_reply.started": "2024-09-12T17:52:19.848439Z"
        },
        "id": "NLDvQm7-CvDZ"
      },
      "execution_count": null,
      "outputs": []
    },
    {
      "cell_type": "code",
      "source": [
        "numeric_data = df_iterative_impute.select_dtypes(include=['number'])\n",
        "categorical_data = df_iterative_impute.select_dtypes(exclude=['number'])"
      ],
      "metadata": {
        "execution": {
          "iopub.execute_input": "2024-09-12T17:52:19.891312Z",
          "iopub.status.busy": "2024-09-12T17:52:19.890899Z",
          "iopub.status.idle": "2024-09-12T17:52:19.900883Z",
          "shell.execute_reply": "2024-09-12T17:52:19.899723Z",
          "shell.execute_reply.started": "2024-09-12T17:52:19.891271Z"
        },
        "id": "x2JSrqgWCvDZ"
      },
      "execution_count": null,
      "outputs": []
    },
    {
      "cell_type": "markdown",
      "source": [
        "# Outliers Detection"
      ],
      "metadata": {
        "id": "vXoPD8rSCvDZ"
      }
    },
    {
      "cell_type": "code",
      "source": [
        "def count_outliers(column):\n",
        "    if pd.api.types.is_numeric_dtype(column):\n",
        "        Q1 = column.quantile(0.25)\n",
        "        Q3 = column.quantile(0.75)\n",
        "        IQR = Q3 - Q1\n",
        "        lower_bound = Q1 - 1.5 * IQR\n",
        "        upper_bound = Q3 + 1.5 * IQR\n",
        "        outliers = column[(column < lower_bound) | (column > upper_bound)]\n",
        "        return len(outliers)\n",
        "    else:\n",
        "        return 0"
      ],
      "metadata": {
        "execution": {
          "iopub.execute_input": "2024-09-12T17:52:19.9027Z",
          "iopub.status.busy": "2024-09-12T17:52:19.902236Z",
          "iopub.status.idle": "2024-09-12T17:52:19.913241Z",
          "shell.execute_reply": "2024-09-12T17:52:19.912158Z",
          "shell.execute_reply.started": "2024-09-12T17:52:19.902657Z"
        },
        "id": "hEAzQgHLCvDZ"
      },
      "execution_count": null,
      "outputs": []
    },
    {
      "cell_type": "code",
      "source": [
        "for index, col in enumerate(numeric_data.columns):\n",
        "    column_data = numeric_data[col]\n",
        "    outliers = count_outliers(column_data)\n",
        "    print(col,  outliers)"
      ],
      "metadata": {
        "execution": {
          "iopub.execute_input": "2024-09-12T17:52:19.914904Z",
          "iopub.status.busy": "2024-09-12T17:52:19.914473Z",
          "iopub.status.idle": "2024-09-12T17:52:19.943612Z",
          "shell.execute_reply": "2024-09-12T17:52:19.942522Z",
          "shell.execute_reply.started": "2024-09-12T17:52:19.914865Z"
        },
        "id": "Zyf92piDCvDZ"
      },
      "execution_count": null,
      "outputs": []
    },
    {
      "cell_type": "code",
      "source": [
        "plt.figure(figsize=(20, 15))\n",
        "for n, feature in enumerate(numeric_data.columns):\n",
        "    plt.subplot(3, 2, n + 1)\n",
        "    sns.boxplot(data=df_featured, x=feature)\n",
        "    plt.title(f'Box Plot of {feature}')\n",
        "    plt.xlabel(feature)\n",
        "plt.tight_layout()\n",
        "plt.show()"
      ],
      "metadata": {
        "execution": {
          "iopub.execute_input": "2024-09-12T17:52:19.945191Z",
          "iopub.status.busy": "2024-09-12T17:52:19.944833Z",
          "iopub.status.idle": "2024-09-12T17:52:21.007763Z",
          "shell.execute_reply": "2024-09-12T17:52:21.006577Z",
          "shell.execute_reply.started": "2024-09-12T17:52:19.945153Z"
        },
        "id": "uoxvfe2pCvDa"
      },
      "execution_count": null,
      "outputs": []
    },
    {
      "cell_type": "markdown",
      "source": [
        "# Handling Outliers\n",
        "### Different methods to handle outliers include:\n",
        "\n",
        "1. **Outlier Removal**: Excluding data points that fall outside a defined threshold.\n",
        "\n",
        "2. **Quantile-based Flooring and Capping**: Limiting extreme values by setting them to the boundaries defined by quantiles.\n",
        "\n",
        "3. **Mean/Median Imputation**: Replacing outliers with the mean or median of the feature.\n",
        "\n",
        "4. **Not Handling Outliers**: In some cases, outliers may carry important information or have minimal impact, so it's better to leave them as they are."
      ],
      "metadata": {
        "id": "l0MyfSTsCvDa"
      }
    },
    {
      "cell_type": "markdown",
      "source": [
        "## 1. Outlier Removal"
      ],
      "metadata": {
        "id": "9N8IAgRDCvDa"
      }
    },
    {
      "cell_type": "code",
      "source": [
        "def remove_outliers(df):\n",
        "\n",
        "    Q1 = numeric_data.quantile(0.25)\n",
        "    Q3 = numeric_data.quantile(0.75)\n",
        "    IQR = Q3 - Q1\n",
        "    df = df[~((numeric_data < (Q1 - 1.5 * IQR)) | (numeric_data > (Q3 + 1.5 * IQR))).any(axis=1)]\n",
        "\n",
        "    return df"
      ],
      "metadata": {
        "execution": {
          "iopub.execute_input": "2024-09-12T17:52:21.009738Z",
          "iopub.status.busy": "2024-09-12T17:52:21.009253Z",
          "iopub.status.idle": "2024-09-12T17:52:21.021948Z",
          "shell.execute_reply": "2024-09-12T17:52:21.020048Z",
          "shell.execute_reply.started": "2024-09-12T17:52:21.009686Z"
        },
        "id": "tvA1KtAHCvDa"
      },
      "execution_count": null,
      "outputs": []
    },
    {
      "cell_type": "code",
      "source": [
        "df_remove_outliers = remove_outliers(df_iterative_impute)"
      ],
      "metadata": {
        "execution": {
          "iopub.execute_input": "2024-09-12T17:52:21.025233Z",
          "iopub.status.busy": "2024-09-12T17:52:21.024213Z",
          "iopub.status.idle": "2024-09-12T17:52:21.048001Z",
          "shell.execute_reply": "2024-09-12T17:52:21.046847Z",
          "shell.execute_reply.started": "2024-09-12T17:52:21.025171Z"
        },
        "id": "e1IhOgtICvDa"
      },
      "execution_count": null,
      "outputs": []
    },
    {
      "cell_type": "code",
      "source": [
        "for index, col in enumerate(df_remove_outliers.columns):\n",
        "    column_data = df_remove_outliers[col]\n",
        "    outliers = count_outliers(column_data)\n",
        "    print(col,  outliers)"
      ],
      "metadata": {
        "execution": {
          "iopub.execute_input": "2024-09-12T17:52:21.049839Z",
          "iopub.status.busy": "2024-09-12T17:52:21.049426Z",
          "iopub.status.idle": "2024-09-12T17:52:21.076199Z",
          "shell.execute_reply": "2024-09-12T17:52:21.074898Z",
          "shell.execute_reply.started": "2024-09-12T17:52:21.049799Z"
        },
        "id": "achCJLFECvDa"
      },
      "execution_count": null,
      "outputs": []
    },
    {
      "cell_type": "markdown",
      "source": [
        "## 2. Quantile-based Flooring and Capping"
      ],
      "metadata": {
        "id": "yoz-CfitCvDa"
      }
    },
    {
      "cell_type": "code",
      "source": [
        "def quantile_flooring_capping(df, numeric_columns, lower_quantile=0.01, upper_quantile=0.99):\n",
        "    for col in numeric_columns:\n",
        "        lower_bound = df[col].quantile(lower_quantile)\n",
        "        upper_bound = df[col].quantile(upper_quantile)\n",
        "\n",
        "        df[col] = df[col].clip(lower=lower_bound, upper=upper_bound)\n",
        "\n",
        "    return df"
      ],
      "metadata": {
        "execution": {
          "iopub.execute_input": "2024-09-12T17:52:21.078553Z",
          "iopub.status.busy": "2024-09-12T17:52:21.078085Z",
          "iopub.status.idle": "2024-09-12T17:52:21.086721Z",
          "shell.execute_reply": "2024-09-12T17:52:21.085427Z",
          "shell.execute_reply.started": "2024-09-12T17:52:21.078486Z"
        },
        "id": "YRIxAv-2CvDa"
      },
      "execution_count": null,
      "outputs": []
    },
    {
      "cell_type": "code",
      "source": [
        "df_quantile_flooring_capping = quantile_flooring_capping(df_iterative_impute,numeric_data.columns,0.01,0.99)"
      ],
      "metadata": {
        "execution": {
          "iopub.execute_input": "2024-09-12T17:52:21.088778Z",
          "iopub.status.busy": "2024-09-12T17:52:21.088247Z",
          "iopub.status.idle": "2024-09-12T17:52:21.124703Z",
          "shell.execute_reply": "2024-09-12T17:52:21.123569Z",
          "shell.execute_reply.started": "2024-09-12T17:52:21.088729Z"
        },
        "id": "fRhkJFllCvDa"
      },
      "execution_count": null,
      "outputs": []
    },
    {
      "cell_type": "code",
      "source": [
        "for index, col in enumerate(df_quantile_flooring_capping.columns):\n",
        "    column_data = df_quantile_flooring_capping[col]\n",
        "    outliers = count_outliers(column_data)\n",
        "    print(col,  outliers)"
      ],
      "metadata": {
        "execution": {
          "iopub.execute_input": "2024-09-12T17:52:21.126737Z",
          "iopub.status.busy": "2024-09-12T17:52:21.12634Z",
          "iopub.status.idle": "2024-09-12T17:52:21.15588Z",
          "shell.execute_reply": "2024-09-12T17:52:21.154551Z",
          "shell.execute_reply.started": "2024-09-12T17:52:21.126696Z"
        },
        "id": "RSTB2BijCvDa"
      },
      "execution_count": null,
      "outputs": []
    },
    {
      "cell_type": "markdown",
      "source": [
        "## 3. Mean/Median Imputation"
      ],
      "metadata": {
        "id": "l1qtasriCvDb"
      }
    },
    {
      "cell_type": "code",
      "source": [
        "def impute_outliers_with_mean_median(df, numeric_columns, method):\n",
        "    for col in numeric_columns:\n",
        "        outlier_count = count_outliers(df[col])\n",
        "\n",
        "        if outlier_count > 0:\n",
        "            if method == 'mean':\n",
        "                impute_value = df[col].mean()\n",
        "            elif method == 'median':\n",
        "                impute_value = df[col].median()\n",
        "            else:\n",
        "                raise ValueError(\"Method should be either 'mean' or 'median'\")\n",
        "\n",
        "            # Replace outliers with the imputation value\n",
        "            Q1 = df[col].quantile(0.25)\n",
        "            Q3 = df[col].quantile(0.75)\n",
        "            IQR = Q3 - Q1\n",
        "            lower_bound = Q1 - 1.5 * IQR\n",
        "            upper_bound = Q3 + 1.5 * IQR\n",
        "            df.loc[(df[col] < lower_bound) | (df[col] > upper_bound), col] = impute_value\n",
        "    return df"
      ],
      "metadata": {
        "execution": {
          "iopub.execute_input": "2024-09-12T17:52:21.158222Z",
          "iopub.status.busy": "2024-09-12T17:52:21.157755Z",
          "iopub.status.idle": "2024-09-12T17:52:21.169562Z",
          "shell.execute_reply": "2024-09-12T17:52:21.168357Z",
          "shell.execute_reply.started": "2024-09-12T17:52:21.15817Z"
        },
        "id": "b1RKUXerCvDb"
      },
      "execution_count": null,
      "outputs": []
    },
    {
      "cell_type": "code",
      "source": [
        "df_impute_outliers_with_mean = impute_outliers_with_mean_median(df_iterative_impute,numeric_data.columns,'mean')"
      ],
      "metadata": {
        "execution": {
          "iopub.execute_input": "2024-09-12T17:52:21.171963Z",
          "iopub.status.busy": "2024-09-12T17:52:21.171472Z",
          "iopub.status.idle": "2024-09-12T17:52:21.207475Z",
          "shell.execute_reply": "2024-09-12T17:52:21.206181Z",
          "shell.execute_reply.started": "2024-09-12T17:52:21.171912Z"
        },
        "id": "CjabxTG-CvDb"
      },
      "execution_count": null,
      "outputs": []
    },
    {
      "cell_type": "code",
      "source": [
        "for index, col in enumerate(df_impute_outliers_with_mean.columns):\n",
        "    column_data = df_impute_outliers_with_mean[col]\n",
        "    outliers = count_outliers(column_data)\n",
        "    print(col,  outliers)"
      ],
      "metadata": {
        "execution": {
          "iopub.execute_input": "2024-09-12T17:52:21.211081Z",
          "iopub.status.busy": "2024-09-12T17:52:21.210667Z",
          "iopub.status.idle": "2024-09-12T17:52:21.242239Z",
          "shell.execute_reply": "2024-09-12T17:52:21.241108Z",
          "shell.execute_reply.started": "2024-09-12T17:52:21.211043Z"
        },
        "id": "XqK6oL7sCvDb"
      },
      "execution_count": null,
      "outputs": []
    },
    {
      "cell_type": "code",
      "source": [
        "df_impute_outliers_with_median = impute_outliers_with_mean_median(df_iterative_impute,numeric_data.columns,'median')"
      ],
      "metadata": {
        "execution": {
          "iopub.execute_input": "2024-09-12T17:52:21.244621Z",
          "iopub.status.busy": "2024-09-12T17:52:21.243807Z",
          "iopub.status.idle": "2024-09-12T17:52:21.273132Z",
          "shell.execute_reply": "2024-09-12T17:52:21.271955Z",
          "shell.execute_reply.started": "2024-09-12T17:52:21.244563Z"
        },
        "id": "PmfNNJksCvDb"
      },
      "execution_count": null,
      "outputs": []
    },
    {
      "cell_type": "code",
      "source": [
        "for index, col in enumerate(df_impute_outliers_with_median.columns):\n",
        "    column_data = df_impute_outliers_with_median[col]\n",
        "    outlier_count = count_outliers(column_data)\n",
        "    print(col, outlier_count)"
      ],
      "metadata": {
        "execution": {
          "iopub.execute_input": "2024-09-12T17:52:21.275419Z",
          "iopub.status.busy": "2024-09-12T17:52:21.274958Z",
          "iopub.status.idle": "2024-09-12T17:52:21.301727Z",
          "shell.execute_reply": "2024-09-12T17:52:21.300409Z",
          "shell.execute_reply.started": "2024-09-12T17:52:21.275366Z"
        },
        "id": "y-qZzHJICvDb"
      },
      "execution_count": null,
      "outputs": []
    },
    {
      "cell_type": "markdown",
      "source": [
        "# Data Transformation"
      ],
      "metadata": {
        "id": "QDMY-ViuCvDb"
      }
    },
    {
      "cell_type": "markdown",
      "source": [
        "## Upsampling"
      ],
      "metadata": {
        "id": "DjlTFAnGCvDb"
      }
    },
    {
      "cell_type": "code",
      "source": [
        "df_featured['date'] = pd.to_datetime(df_featured['date'], errors='coerce')\n",
        "df_featured.set_index('date', inplace=True)\n",
        "\n",
        "columns_to_interpolate = ['AverageTemperature', 'AverageTemperatureUncertainty']\n",
        "\n",
        "original_index = df_featured.index"
      ],
      "metadata": {
        "execution": {
          "iopub.execute_input": "2024-09-12T17:52:21.304128Z",
          "iopub.status.busy": "2024-09-12T17:52:21.303353Z",
          "iopub.status.idle": "2024-09-12T17:52:21.331001Z",
          "shell.execute_reply": "2024-09-12T17:52:21.329683Z",
          "shell.execute_reply.started": "2024-09-12T17:52:21.304071Z"
        },
        "id": "X3EqgZQGCvDb"
      },
      "execution_count": null,
      "outputs": []
    },
    {
      "cell_type": "code",
      "source": [
        "upsampled = df_featured[columns_to_interpolate].resample('D').mean()\n",
        "interpolated_poly = upsampled.interpolate(method='spline', order=2)\n",
        "\n",
        "combined_index = original_index.union(interpolated_poly.index)"
      ],
      "metadata": {
        "execution": {
          "iopub.execute_input": "2024-09-12T17:52:21.33341Z",
          "iopub.status.busy": "2024-09-12T17:52:21.33303Z",
          "iopub.status.idle": "2024-09-12T17:52:21.670721Z",
          "shell.execute_reply": "2024-09-12T17:52:21.669568Z",
          "shell.execute_reply.started": "2024-09-12T17:52:21.333372Z"
        },
        "id": "zOLyg-__CvDc"
      },
      "execution_count": null,
      "outputs": []
    },
    {
      "cell_type": "code",
      "source": [
        "df_combined = pd.DataFrame(index=combined_index)\n",
        "\n",
        "df_combined = df_combined.join(df_featured)\n",
        "\n",
        "df_combined = df_combined.join(interpolated_poly, how='left', rsuffix='_interpolated')\n",
        "\n",
        "df_combined.loc[df_combined.index.difference(original_index), columns_to_interpolate] = np.nan\n",
        "\n",
        "df_combined[columns_to_interpolate] = df_combined[columns_to_interpolate].fillna(df_combined.filter(like='_interpolated'))\n",
        "\n",
        "df_combined.drop(columns=df_combined.filter(like='_interpolated').columns, inplace=True)\n",
        "\n",
        "df_combined = df_combined[~df_combined.index.duplicated(keep='first')]"
      ],
      "metadata": {
        "execution": {
          "iopub.execute_input": "2024-09-12T17:52:21.673291Z",
          "iopub.status.busy": "2024-09-12T17:52:21.672017Z",
          "iopub.status.idle": "2024-09-12T17:52:23.223619Z",
          "shell.execute_reply": "2024-09-12T17:52:23.22266Z",
          "shell.execute_reply.started": "2024-09-12T17:52:21.673248Z"
        },
        "id": "lxJSONdUCvDc"
      },
      "execution_count": null,
      "outputs": []
    },
    {
      "cell_type": "code",
      "source": [
        "plt.figure(figsize=(20,4))\n",
        "interpolated_poly.plot()\n",
        "plt.show()"
      ],
      "metadata": {
        "execution": {
          "iopub.execute_input": "2024-09-12T17:52:23.225628Z",
          "iopub.status.busy": "2024-09-12T17:52:23.225172Z",
          "iopub.status.idle": "2024-09-12T17:52:26.998699Z",
          "shell.execute_reply": "2024-09-12T17:52:26.997434Z",
          "shell.execute_reply.started": "2024-09-12T17:52:23.225577Z"
        },
        "id": "1hEdi-q8CvDc"
      },
      "execution_count": null,
      "outputs": []
    },
    {
      "cell_type": "markdown",
      "source": [
        "## Check Stationarity"
      ],
      "metadata": {
        "id": "-s-TMkhZCvDc"
      }
    },
    {
      "cell_type": "code",
      "source": [
        "def check_stationarity(series):\n",
        "    # Check if the series is constant\n",
        "    if series.nunique() == 1:\n",
        "        print(\"The series is constant and cannot be used for the ADF test.\")\n",
        "        return\n",
        "\n",
        "    # Rolling statistics\n",
        "    rolling_mean = series.rolling(window=12).mean()\n",
        "    rolling_std = series.rolling(window=12).std()\n",
        "\n",
        "    # Plot rolling statistics\n",
        "    plt.figure(figsize=(10, 6))\n",
        "    plt.plot(series, color='blue', label='Original')\n",
        "    plt.plot(rolling_mean, color='red', label='Rolling Mean')\n",
        "    plt.plot(rolling_std, color='black', label='Rolling Std')\n",
        "    plt.legend(loc='best')\n",
        "    plt.title('Rolling Mean & Standard Deviation')\n",
        "    plt.show()\n",
        "\n",
        "    # Perform ADF Test\n",
        "    adf_test = adfuller(series, autolag='AIC')\n",
        "\n",
        "    print('Results of Dickey-Fuller Test:')\n",
        "    df_output = pd.Series(adf_test[0:4], index=['Test Statistic', 'p-value', '#Lags Used', 'Number of Observations Used'])\n",
        "    for key, value in adf_test[4].items():\n",
        "        df_output['Critical Value (%s)' % key] = value\n",
        "\n",
        "    print(df_output)"
      ],
      "metadata": {
        "execution": {
          "iopub.execute_input": "2024-09-12T17:52:27.000764Z",
          "iopub.status.busy": "2024-09-12T17:52:27.000285Z",
          "iopub.status.idle": "2024-09-12T17:52:27.012432Z",
          "shell.execute_reply": "2024-09-12T17:52:27.011235Z",
          "shell.execute_reply.started": "2024-09-12T17:52:27.000711Z"
        },
        "id": "6qPsO0EcCvDc"
      },
      "execution_count": null,
      "outputs": []
    },
    {
      "cell_type": "code",
      "source": [
        "check_stationarity(df_egy_cleaned['AverageTemperature'])"
      ],
      "metadata": {
        "execution": {
          "iopub.execute_input": "2024-09-12T17:52:27.01442Z",
          "iopub.status.busy": "2024-09-12T17:52:27.013991Z",
          "iopub.status.idle": "2024-09-12T17:52:36.342341Z",
          "shell.execute_reply": "2024-09-12T17:52:36.340902Z",
          "shell.execute_reply.started": "2024-09-12T17:52:27.014377Z"
        },
        "id": "rnLu2ngACvDc"
      },
      "execution_count": null,
      "outputs": []
    },
    {
      "cell_type": "markdown",
      "source": [
        "#### The results of the Dickey-Fuller test indicate that the `AverageTemperature` time series is stationary."
      ],
      "metadata": {
        "id": "KkypSBe9CvDc"
      }
    },
    {
      "cell_type": "markdown",
      "source": [
        "## Moving Average Smoothing : tail-rolling average transform as data Preparation"
      ],
      "metadata": {
        "id": "UZQ23UUVCvDc"
      }
    },
    {
      "cell_type": "code",
      "source": [
        "df = df_egy[['date','AverageTemperature']].set_index('date')\n",
        "series = df.squeeze()"
      ],
      "metadata": {
        "execution": {
          "iopub.execute_input": "2024-09-12T17:53:33.973977Z",
          "iopub.status.busy": "2024-09-12T17:53:33.97352Z",
          "iopub.status.idle": "2024-09-12T17:53:33.983757Z",
          "shell.execute_reply": "2024-09-12T17:53:33.982462Z",
          "shell.execute_reply.started": "2024-09-12T17:53:33.973926Z"
        },
        "id": "Hd3SHlQLCvDc"
      },
      "execution_count": null,
      "outputs": []
    },
    {
      "cell_type": "code",
      "source": [
        "# tail-rolling average transform\n",
        "rolling = series.rolling(window=3)\n",
        "rolling_mean = rolling.mean()\n",
        "print(rolling_mean.head(10))\n",
        "# plot original and transformed dataset\n",
        "series.plot(label='original')\n",
        "rolling_mean.plot(color='red',label='transformed')\n",
        "plt.legend()\n",
        "plt.show()\n",
        "# zoomed plot original and transformed dataset\n",
        "series[:100].plot(label='original')\n",
        "rolling_mean[:100].plot(color='red',label='transformed')\n",
        "plt.legend()\n",
        "plt.show()"
      ],
      "metadata": {
        "execution": {
          "iopub.execute_input": "2024-09-12T17:53:38.527949Z",
          "iopub.status.busy": "2024-09-12T17:53:38.527458Z",
          "iopub.status.idle": "2024-09-12T17:53:39.940283Z",
          "shell.execute_reply": "2024-09-12T17:53:39.939117Z",
          "shell.execute_reply.started": "2024-09-12T17:53:38.527906Z"
        },
        "id": "dIzkMg0PCvDc"
      },
      "execution_count": null,
      "outputs": []
    },
    {
      "cell_type": "code",
      "source": [
        "plt.figure(figsize=(20, 15))\n",
        "for n, feature in enumerate(numeric_data):\n",
        "    plt.subplot(4, 2, n + 1)\n",
        "    sns.kdeplot(data=df_knn_impute, x=feature)\n",
        "    plt.title(f' Density of {feature}')\n",
        "    plt.xlabel(feature)\n",
        "plt.tight_layout()\n",
        "plt.show()"
      ],
      "metadata": {
        "execution": {
          "iopub.execute_input": "2024-09-12T17:53:39.94317Z",
          "iopub.status.busy": "2024-09-12T17:53:39.942736Z",
          "iopub.status.idle": "2024-09-12T17:53:42.682529Z",
          "shell.execute_reply": "2024-09-12T17:53:42.681333Z",
          "shell.execute_reply.started": "2024-09-12T17:53:39.943126Z"
        },
        "id": "m74q7TrOCvDd"
      },
      "execution_count": null,
      "outputs": []
    },
    {
      "cell_type": "code",
      "source": [
        "from sklearn.preprocessing import QuantileTransformer\n",
        "quantile = QuantileTransformer(output_distribution='normal')\n",
        "data_trans = quantile.fit_transform(df_remove_outliers[numeric_data.columns])\n",
        "# histogram of the transformed data\n",
        "plt.hist(data_trans, bins=25)\n",
        "plt.show()"
      ],
      "metadata": {
        "execution": {
          "iopub.execute_input": "2024-09-12T17:53:42.685111Z",
          "iopub.status.busy": "2024-09-12T17:53:42.684725Z",
          "iopub.status.idle": "2024-09-12T17:53:43.161628Z",
          "shell.execute_reply": "2024-09-12T17:53:43.160259Z",
          "shell.execute_reply.started": "2024-09-12T17:53:42.685069Z"
        },
        "id": "cvjHFSdcCvDd"
      },
      "execution_count": null,
      "outputs": []
    },
    {
      "cell_type": "code",
      "source": [
        "df = pd.DataFrame(data_trans)"
      ],
      "metadata": {
        "execution": {
          "iopub.execute_input": "2024-09-12T17:53:43.163676Z",
          "iopub.status.busy": "2024-09-12T17:53:43.163216Z",
          "iopub.status.idle": "2024-09-12T17:53:43.170308Z",
          "shell.execute_reply": "2024-09-12T17:53:43.168799Z",
          "shell.execute_reply.started": "2024-09-12T17:53:43.16363Z"
        },
        "id": "kyvUAfhWCvDd"
      },
      "execution_count": null,
      "outputs": []
    },
    {
      "cell_type": "code",
      "source": [
        "df.head()"
      ],
      "metadata": {
        "execution": {
          "iopub.execute_input": "2024-09-12T17:53:43.17436Z",
          "iopub.status.busy": "2024-09-12T17:53:43.17381Z",
          "iopub.status.idle": "2024-09-12T17:53:43.194851Z",
          "shell.execute_reply": "2024-09-12T17:53:43.193604Z",
          "shell.execute_reply.started": "2024-09-12T17:53:43.174301Z"
        },
        "id": "rIltQaoICvDd"
      },
      "execution_count": null,
      "outputs": []
    },
    {
      "cell_type": "code",
      "source": [
        "plt.figure(figsize=(20, 15))\n",
        "for n, feature in enumerate(df):\n",
        "    plt.subplot(4, 2, n + 1)\n",
        "    sns.kdeplot(data=df, x=feature)\n",
        "    plt.title(f' Density of {feature}')\n",
        "    plt.xlabel(feature)\n",
        "plt.tight_layout()\n",
        "plt.show()"
      ],
      "metadata": {
        "execution": {
          "iopub.execute_input": "2024-09-12T17:53:43.196802Z",
          "iopub.status.busy": "2024-09-12T17:53:43.196354Z",
          "iopub.status.idle": "2024-09-12T17:53:46.043489Z",
          "shell.execute_reply": "2024-09-12T17:53:46.042117Z",
          "shell.execute_reply.started": "2024-09-12T17:53:43.196758Z"
        },
        "id": "MBm_EWd2CvDd"
      },
      "execution_count": null,
      "outputs": []
    },
    {
      "cell_type": "code",
      "source": [
        "# Plot time series data\n",
        "plt.figure(figsize=(35, 6))\n",
        "plt.plot(df_egy_cleaned['date'], df_egy_cleaned['AverageTemperature'], label='Average Temperature', color='blue')\n",
        "plt.xlabel('Date')\n",
        "plt.ylabel('Average Temperature')\n",
        "plt.title('Time Series of Average Temperature')\n",
        "plt.legend()\n",
        "plt.show()\n"
      ],
      "metadata": {
        "execution": {
          "iopub.execute_input": "2024-09-12T17:53:46.045813Z",
          "iopub.status.busy": "2024-09-12T17:53:46.04531Z",
          "iopub.status.idle": "2024-09-12T17:53:46.977194Z",
          "shell.execute_reply": "2024-09-12T17:53:46.975574Z",
          "shell.execute_reply.started": "2024-09-12T17:53:46.045759Z"
        },
        "id": "HA-ullEiCvDd"
      },
      "execution_count": null,
      "outputs": []
    },
    {
      "cell_type": "markdown",
      "source": [
        "# Clustering TO see similar attribute between cities"
      ],
      "metadata": {
        "id": "PVZHnFgFCvDd"
      }
    },
    {
      "cell_type": "code",
      "source": [
        "df_egy_cluster=df_egy.drop(['Country','date','Longitude','Latitude','City'],axis=1)"
      ],
      "metadata": {
        "execution": {
          "iopub.execute_input": "2024-09-12T17:54:15.964779Z",
          "iopub.status.busy": "2024-09-12T17:54:15.963897Z",
          "iopub.status.idle": "2024-09-12T17:54:15.970912Z",
          "shell.execute_reply": "2024-09-12T17:54:15.969773Z",
          "shell.execute_reply.started": "2024-09-12T17:54:15.964721Z"
        },
        "id": "src9ZjsUCvDd"
      },
      "execution_count": null,
      "outputs": []
    },
    {
      "cell_type": "code",
      "source": [
        "df_egy_cluster.dropna(inplace=True)\n",
        "df_egy_copy=df_egy.copy()\n",
        "df_egy_copy.dropna(inplace=True)\n",
        "df_egy_copy.info()"
      ],
      "metadata": {
        "execution": {
          "iopub.execute_input": "2024-09-12T17:54:17.041304Z",
          "iopub.status.busy": "2024-09-12T17:54:17.040602Z",
          "iopub.status.idle": "2024-09-12T17:54:17.125088Z",
          "shell.execute_reply": "2024-09-12T17:54:17.123812Z",
          "shell.execute_reply.started": "2024-09-12T17:54:17.041255Z"
        },
        "id": "tuyhTc6DCvDd"
      },
      "execution_count": null,
      "outputs": []
    },
    {
      "cell_type": "code",
      "source": [
        "df_egy_cluster.info()"
      ],
      "metadata": {
        "execution": {
          "iopub.execute_input": "2024-09-12T17:54:17.569477Z",
          "iopub.status.busy": "2024-09-12T17:54:17.568331Z",
          "iopub.status.idle": "2024-09-12T17:54:17.581928Z",
          "shell.execute_reply": "2024-09-12T17:54:17.580695Z",
          "shell.execute_reply.started": "2024-09-12T17:54:17.569413Z"
        },
        "id": "LoE5hCD1CvDe"
      },
      "execution_count": null,
      "outputs": []
    },
    {
      "cell_type": "code",
      "source": [
        "# Different scaling methods\n",
        "scalers = {\n",
        "    'StandardScaler': StandardScaler(),\n",
        "    'MinMaxScaler': MinMaxScaler(),\n",
        "    'RobustScaler': RobustScaler()\n",
        "}\n",
        "\n",
        "# Dictionary to store inertia values for each scaling method\n",
        "inertia_dict = {}\n",
        "\n",
        "for scaler_name, scaler in scalers.items():\n",
        "    # Scale the data\n",
        "    df_scaled = scaler.fit_transform(df_egy_cluster)\n",
        "\n",
        "    # Determine optimal number of clusters (e.g., using Elbow method)\n",
        "    inertia = []\n",
        "    for i in range(1, 11):\n",
        "        kmeans = KMeans(n_clusters=i, random_state=42)\n",
        "        kmeans.fit(df_scaled)\n",
        "        inertia.append(kmeans.inertia_)\n",
        "\n",
        "    inertia_dict[scaler_name] = inertia\n",
        "\n",
        "    # Plot Elbow method results\n",
        "    plt.plot(range(1, 11), inertia, marker='o', label=scaler_name)\n",
        "\n",
        "plt.title('Elbow Method for Optimal k')\n",
        "plt.xlabel('Number of Clusters (k)')\n",
        "plt.ylabel('Inertia')\n",
        "plt.legend()\n",
        "plt.show()"
      ],
      "metadata": {
        "execution": {
          "iopub.execute_input": "2024-09-12T17:54:19.129805Z",
          "iopub.status.busy": "2024-09-12T17:54:19.129346Z",
          "iopub.status.idle": "2024-09-12T17:55:09.065793Z",
          "shell.execute_reply": "2024-09-12T17:55:09.064591Z",
          "shell.execute_reply.started": "2024-09-12T17:54:19.12976Z"
        },
        "id": "eS1Xzj4OCvDe"
      },
      "execution_count": null,
      "outputs": []
    },
    {
      "cell_type": "code",
      "source": [
        "X = df_egy_cluster\n",
        "\n",
        "scalers = {\n",
        "    'StandardScaler': StandardScaler(),\n",
        "    'MinMaxScaler': MinMaxScaler(),\n",
        "    'RobustScaler': RobustScaler()\n",
        "}\n",
        "\n",
        "# Range of k (number of clusters) to try\n",
        "k_values = range(2, 5)  # You can adjust the range as needed\n",
        "\n",
        "# Dictionary to store silhouette scores\n",
        "results = {}\n",
        "\n",
        "for scaler_name, scaler in scalers.items():\n",
        "    for k in k_values:\n",
        "        try:\n",
        "\n",
        "            model = KMeans(n_clusters=k, random_state=42)\n",
        "\n",
        "            preferred_scaler = scalers[scaler_name]\n",
        "\n",
        "            X_scaled = preferred_scaler.fit_transform(df_egy_cluster)\n",
        "\n",
        "            labels = model.fit_predict(X_scaled)\n",
        "\n",
        "\n",
        "            score = silhouette_score(X_scaled, labels)\n",
        "\n",
        "\n",
        "            results[(scaler_name, k)] = score\n",
        "\n",
        "            print(f'Linkage: {scaler_name}, Clusters: {k}, Silhouette Score: {score:.4f}')\n",
        "\n",
        "        except ValueError as e:\n",
        "\n",
        "            print(f'Error for Linkage: {scaler_name}, Clusters: {k}: {e}')\n",
        "\n",
        "\n",
        "best_params = max(results, key=results.get)\n",
        "best_score = results[best_params]\n",
        "\n",
        "print(f'\\nBest combination: Linkage={best_params[0]}, Clusters={best_params[1]} with Silhouette Score={best_score:.4f}')"
      ],
      "metadata": {
        "execution": {
          "iopub.execute_input": "2024-09-12T17:55:09.068441Z",
          "iopub.status.busy": "2024-09-12T17:55:09.068045Z",
          "iopub.status.idle": "2024-09-12T17:58:53.276704Z",
          "shell.execute_reply": "2024-09-12T17:58:53.275285Z",
          "shell.execute_reply.started": "2024-09-12T17:55:09.068399Z"
        },
        "id": "s-zEjWewCvDe"
      },
      "execution_count": null,
      "outputs": []
    },
    {
      "cell_type": "code",
      "source": [
        "model = KMeans(n_clusters=3 , random_state=42)\n",
        "\n",
        "preferred_scaler = MinMaxScaler()\n",
        "\n",
        "X_scaled = preferred_scaler.fit_transform(df_egy_cluster)\n",
        "\n",
        "labels = model.fit_predict(X_scaled)\n",
        "score = silhouette_score(X_scaled, labels)\n",
        "print(f'Silhouette Score: {score}')\n",
        "df_egy_copy['clusterCities'] = model.labels_\n",
        "\n",
        "plt.scatter(df_egy_cluster['AverageTemperature'], df_egy_cluster['AverageTemperatureUncertainty'], c=df_egy_copy['clusterCities'], cmap='viridis')\n",
        "plt.title('Customer Segmentation with kmeans')\n",
        "plt.xlabel('Egyptian cities')\n",
        "plt.ylabel('Temp')\n",
        "plt.show()"
      ],
      "metadata": {
        "execution": {
          "iopub.execute_input": "2024-09-12T17:58:53.279064Z",
          "iopub.status.busy": "2024-09-12T17:58:53.27852Z",
          "iopub.status.idle": "2024-09-12T17:59:19.077021Z",
          "shell.execute_reply": "2024-09-12T17:59:19.075743Z",
          "shell.execute_reply.started": "2024-09-12T17:58:53.279003Z"
        },
        "id": "ZSowIbcaCvDe"
      },
      "execution_count": null,
      "outputs": []
    },
    {
      "cell_type": "code",
      "source": [
        "aCites=df_egy_copy[df_egy_copy['clusterCities']==0]\n",
        "bCites=df_egy_copy[df_egy_copy['clusterCities']==1]\n",
        "cCites=df_egy_copy[df_egy_copy['clusterCities']==2]"
      ],
      "metadata": {
        "execution": {
          "iopub.execute_input": "2024-09-12T17:59:19.080022Z",
          "iopub.status.busy": "2024-09-12T17:59:19.079614Z",
          "iopub.status.idle": "2024-09-12T17:59:19.093272Z",
          "shell.execute_reply": "2024-09-12T17:59:19.091913Z",
          "shell.execute_reply.started": "2024-09-12T17:59:19.079979Z"
        },
        "id": "e1NlzF93CvDe"
      },
      "execution_count": null,
      "outputs": []
    },
    {
      "cell_type": "code",
      "source": [
        "# Assuming FCites is your DataFrame\n",
        "unique_cities = aCites['City'].value_counts()\n",
        "\n",
        "# Display the unique cities and their counts\n",
        "print(unique_cities)"
      ],
      "metadata": {
        "execution": {
          "iopub.execute_input": "2024-09-12T17:59:19.095343Z",
          "iopub.status.busy": "2024-09-12T17:59:19.094931Z",
          "iopub.status.idle": "2024-09-12T17:59:19.108281Z",
          "shell.execute_reply": "2024-09-12T17:59:19.106979Z",
          "shell.execute_reply.started": "2024-09-12T17:59:19.095302Z"
        },
        "id": "Pk9a1FMfCvDe"
      },
      "execution_count": null,
      "outputs": []
    },
    {
      "cell_type": "code",
      "source": [
        "import matplotlib.pyplot as plt\n",
        "\n",
        "# Assuming 'aCites' is your DataFrame\n",
        "unique_cities = aCites['City'].value_counts()\n",
        "\n",
        "# Plotting the bar chart\n",
        "plt.figure(figsize=(12, 8))\n",
        "unique_cities.plot(kind='bar', color='skyblue', edgecolor='black')\n",
        "plt.title('Count of Unique Cities')\n",
        "plt.xlabel('City')\n",
        "plt.ylabel('Count')\n",
        "plt.xticks(rotation=90)  # Rotate city names for better readability\n",
        "plt.grid(axis='y', linestyle='--', alpha=0.7)\n",
        "plt.show()"
      ],
      "metadata": {
        "execution": {
          "iopub.execute_input": "2024-09-12T17:59:19.110193Z",
          "iopub.status.busy": "2024-09-12T17:59:19.109771Z",
          "iopub.status.idle": "2024-09-12T17:59:19.558855Z",
          "shell.execute_reply": "2024-09-12T17:59:19.557608Z",
          "shell.execute_reply.started": "2024-09-12T17:59:19.110153Z"
        },
        "id": "mEL3B93ACvDe"
      },
      "execution_count": null,
      "outputs": []
    },
    {
      "cell_type": "code",
      "source": [
        "# Assuming FCites is your DataFrame\n",
        "unique_cities = bCites['City'].value_counts()\n",
        "\n",
        "# Display the unique cities and their counts\n",
        "print(unique_cities)"
      ],
      "metadata": {
        "execution": {
          "iopub.execute_input": "2024-09-12T17:59:19.560819Z",
          "iopub.status.busy": "2024-09-12T17:59:19.560398Z",
          "iopub.status.idle": "2024-09-12T17:59:19.57079Z",
          "shell.execute_reply": "2024-09-12T17:59:19.56936Z",
          "shell.execute_reply.started": "2024-09-12T17:59:19.56077Z"
        },
        "id": "NSOjGtODCvDe"
      },
      "execution_count": null,
      "outputs": []
    },
    {
      "cell_type": "code",
      "source": [
        "# Assuming FCites is your DataFrame\n",
        "unique_cities = cCites['City'].value_counts()\n",
        "\n",
        "# Display the unique cities and their counts\n",
        "print(unique_cities)"
      ],
      "metadata": {
        "execution": {
          "iopub.execute_input": "2024-09-12T17:59:19.57273Z",
          "iopub.status.busy": "2024-09-12T17:59:19.572239Z",
          "iopub.status.idle": "2024-09-12T17:59:19.587689Z",
          "shell.execute_reply": "2024-09-12T17:59:19.5864Z",
          "shell.execute_reply.started": "2024-09-12T17:59:19.57265Z"
        },
        "id": "cQuUNxhiCvDe"
      },
      "execution_count": null,
      "outputs": []
    },
    {
      "cell_type": "markdown",
      "source": [
        "# Forcasting Cluster 1"
      ],
      "metadata": {
        "id": "Rhc1_Z3HCvDf"
      }
    },
    {
      "cell_type": "code",
      "source": [
        "df_egy['dt'] = pd.to_datetime(df_egy['dt'])\n",
        "c0 =df_egy[df_egy['City']=='Alexandria']\n",
        "c0.set_index('dt', inplace=True)\n",
        "c0= c0.fillna(0)"
      ],
      "metadata": {
        "execution": {
          "iopub.execute_input": "2024-09-12T17:59:34.709652Z",
          "iopub.status.busy": "2024-09-12T17:59:34.709183Z",
          "iopub.status.idle": "2024-09-12T17:59:34.728928Z",
          "shell.execute_reply": "2024-09-12T17:59:34.727706Z",
          "shell.execute_reply.started": "2024-09-12T17:59:34.709608Z"
        },
        "id": "2Bw06ggnCvDf"
      },
      "execution_count": null,
      "outputs": []
    },
    {
      "cell_type": "code",
      "source": [
        "from datetime import datetime\n",
        "from datetime import timedelta\n",
        "start_date = datetime(1810,5,1)\n",
        "end_date = datetime(2013,8,1)\n",
        "lim_df = c0[start_date:end_date]\n",
        "lim_df=lim_df.drop(['City','Country','Longitude','Latitude','AverageTemperatureUncertainty'],axis=1)"
      ],
      "metadata": {
        "execution": {
          "iopub.execute_input": "2024-09-12T18:02:49.027879Z",
          "iopub.status.busy": "2024-09-12T18:02:49.026942Z",
          "iopub.status.idle": "2024-09-12T18:02:49.303454Z",
          "shell.execute_reply": "2024-09-12T18:02:49.301589Z",
          "shell.execute_reply.started": "2024-09-12T18:02:49.02783Z"
        },
        "id": "5cD2y_MsCvDf"
      },
      "execution_count": null,
      "outputs": []
    },
    {
      "cell_type": "code",
      "source": [
        "plt.figure(figsize=(10,4))\n",
        "plt.plot(lim_df)\n",
        "plt.ylabel('avg temp', fontsize=16)\n",
        "for year in range(start_date.year,end_date.year):\n",
        "    plt.axvline(pd.to_datetime(str(year)+'-01-01'), color='k', linestyle='--', alpha=0.2)"
      ],
      "metadata": {
        "execution": {
          "iopub.execute_input": "2024-09-12T18:00:50.589704Z",
          "iopub.status.busy": "2024-09-12T18:00:50.589214Z",
          "iopub.status.idle": "2024-09-12T18:00:50.644811Z",
          "shell.execute_reply": "2024-09-12T18:00:50.643133Z",
          "shell.execute_reply.started": "2024-09-12T18:00:50.589657Z"
        },
        "id": "y_6xhOCFCvDf"
      },
      "execution_count": null,
      "outputs": []
    },
    {
      "cell_type": "code",
      "source": [
        "plot_acf(lim_df, lags=24, title='Autocorrelation')"
      ],
      "metadata": {
        "execution": {
          "iopub.execute_input": "2024-09-12T17:59:37.252865Z",
          "iopub.status.busy": "2024-09-12T17:59:37.252123Z",
          "iopub.status.idle": "2024-09-12T17:59:37.289071Z",
          "shell.execute_reply": "2024-09-12T17:59:37.287525Z",
          "shell.execute_reply.started": "2024-09-12T17:59:37.25282Z"
        },
        "id": "bbdYWRJUCvDf"
      },
      "execution_count": null,
      "outputs": []
    },
    {
      "cell_type": "code",
      "source": [
        "plot_pacf(lim_df, lags=24, title='partial correlation')"
      ],
      "metadata": {
        "execution": {
          "iopub.status.busy": "2024-09-12T17:59:19.661457Z",
          "iopub.status.idle": "2024-09-12T17:59:19.661928Z",
          "shell.execute_reply": "2024-09-12T17:59:19.661728Z",
          "shell.execute_reply.started": "2024-09-12T17:59:19.661705Z"
        },
        "id": "SB6dXmjOCvDf"
      },
      "execution_count": null,
      "outputs": []
    },
    {
      "cell_type": "code",
      "source": [
        "first_diff = lim_df.diff(periods=2)[2:]"
      ],
      "metadata": {
        "execution": {
          "iopub.status.busy": "2024-09-12T17:59:19.664161Z",
          "iopub.status.idle": "2024-09-12T17:59:19.664915Z",
          "shell.execute_reply": "2024-09-12T17:59:19.664693Z",
          "shell.execute_reply.started": "2024-09-12T17:59:19.664668Z"
        },
        "id": "auB7xcyDCvDf"
      },
      "execution_count": null,
      "outputs": []
    },
    {
      "cell_type": "code",
      "source": [
        "first_diff"
      ],
      "metadata": {
        "execution": {
          "iopub.status.busy": "2024-09-12T17:59:19.666464Z",
          "iopub.status.idle": "2024-09-12T17:59:19.666985Z",
          "shell.execute_reply": "2024-09-12T17:59:19.666742Z",
          "shell.execute_reply.started": "2024-09-12T17:59:19.666717Z"
        },
        "id": "8JH_VBHqCvDf"
      },
      "execution_count": null,
      "outputs": []
    },
    {
      "cell_type": "code",
      "source": [
        "plt.figure(figsize=(10,4))\n",
        "plt.plot(first_diff)\n",
        "plt.title('diffrence of temp', fontsize=20)\n",
        "for year in range(start_date.year,end_date.year):\n",
        "    plt.axvline(pd.to_datetime(str(year)+'-01-01'), color='k', linestyle='--', alpha=0.2)"
      ],
      "metadata": {
        "execution": {
          "iopub.status.busy": "2024-09-12T17:59:19.668211Z",
          "iopub.status.idle": "2024-09-12T17:59:19.668696Z",
          "shell.execute_reply": "2024-09-12T17:59:19.66846Z",
          "shell.execute_reply.started": "2024-09-12T17:59:19.668437Z"
        },
        "id": "qA4pKk9PCvDg"
      },
      "execution_count": null,
      "outputs": []
    },
    {
      "cell_type": "code",
      "source": [
        "plot_acf(first_diff, lags=30, title='Autocorrelation')"
      ],
      "metadata": {
        "execution": {
          "iopub.status.busy": "2024-09-12T17:59:19.670317Z",
          "iopub.status.idle": "2024-09-12T17:59:19.670778Z",
          "shell.execute_reply": "2024-09-12T17:59:19.670577Z",
          "shell.execute_reply.started": "2024-09-12T17:59:19.670554Z"
        },
        "id": "sapf0WwbCvDg"
      },
      "execution_count": null,
      "outputs": []
    },
    {
      "cell_type": "code",
      "source": [
        "plot_pacf(first_diff, lags=12, title='Partial Autocorrelation ')"
      ],
      "metadata": {
        "execution": {
          "iopub.status.busy": "2024-09-12T17:59:19.672292Z",
          "iopub.status.idle": "2024-09-12T17:59:19.672761Z",
          "shell.execute_reply": "2024-09-12T17:59:19.672557Z",
          "shell.execute_reply.started": "2024-09-12T17:59:19.672522Z"
        },
        "id": "bnV_061ACvDg"
      },
      "execution_count": null,
      "outputs": []
    },
    {
      "cell_type": "code",
      "source": [
        "first_diff.head()"
      ],
      "metadata": {
        "execution": {
          "iopub.status.busy": "2024-09-12T17:59:19.674012Z",
          "iopub.status.idle": "2024-09-12T17:59:19.67447Z",
          "shell.execute_reply": "2024-09-12T17:59:19.674263Z",
          "shell.execute_reply.started": "2024-09-12T17:59:19.674241Z"
        },
        "id": "7qi9nCZKCvDg"
      },
      "execution_count": null,
      "outputs": []
    },
    {
      "cell_type": "code",
      "source": [
        "first_diff.tail()"
      ],
      "metadata": {
        "execution": {
          "iopub.status.busy": "2024-09-12T17:59:19.676223Z",
          "iopub.status.idle": "2024-09-12T17:59:19.676685Z",
          "shell.execute_reply": "2024-09-12T17:59:19.676448Z",
          "shell.execute_reply.started": "2024-09-12T17:59:19.676427Z"
        },
        "id": "HKlEiNXdCvDg"
      },
      "execution_count": null,
      "outputs": []
    },
    {
      "cell_type": "code",
      "source": [
        "from datetime import datetime, timedelta\n",
        "from dateutil.relativedelta import relativedelta\n",
        "train1_start=datetime(1999,1,1)\n",
        "train1_end = datetime(2000,1,1)\n",
        "test1_end = datetime(2013,7,1)\n",
        "\n",
        "train1_data = first_diff[:train1_end]\n",
        "# Use relativedelta to add 1 month to train_end\n",
        "test1_data = first_diff[train1_end + timedelta(days=1):test1_end]"
      ],
      "metadata": {
        "execution": {
          "iopub.status.busy": "2024-09-12T17:59:19.678195Z",
          "iopub.status.idle": "2024-09-12T17:59:19.678644Z",
          "shell.execute_reply": "2024-09-12T17:59:19.678418Z",
          "shell.execute_reply.started": "2024-09-12T17:59:19.678397Z"
        },
        "id": "M5zYf_sFCvDg"
      },
      "execution_count": null,
      "outputs": []
    },
    {
      "cell_type": "code",
      "source": [
        "train1_data.head()"
      ],
      "metadata": {
        "execution": {
          "iopub.status.busy": "2024-09-12T17:59:19.680943Z",
          "iopub.status.idle": "2024-09-12T17:59:19.681413Z",
          "shell.execute_reply": "2024-09-12T17:59:19.681208Z",
          "shell.execute_reply.started": "2024-09-12T17:59:19.681184Z"
        },
        "id": "-Itg3BbxCvDg"
      },
      "execution_count": null,
      "outputs": []
    },
    {
      "cell_type": "code",
      "source": [
        "test1_data.head()"
      ],
      "metadata": {
        "execution": {
          "iopub.status.busy": "2024-09-12T17:59:19.682821Z",
          "iopub.status.idle": "2024-09-12T17:59:19.683301Z",
          "shell.execute_reply": "2024-09-12T17:59:19.683108Z",
          "shell.execute_reply.started": "2024-09-12T17:59:19.683084Z"
        },
        "id": "liO1Un8ZCvDg"
      },
      "execution_count": null,
      "outputs": []
    },
    {
      "cell_type": "code",
      "source": [
        "from statsmodels.tsa.statespace.sarimax import SARIMAX\n",
        "sarima_model1 = SARIMAX(\n",
        "    train1_data,\n",
        "    order=(2, 0, 2),                 # ARIMA order (p, d, q)\n",
        "    seasonal_order=(1, 1, 1, 12)    # Seasonal order (P, D, Q, S) with period 12\n",
        ").fit()"
      ],
      "metadata": {
        "execution": {
          "iopub.status.busy": "2024-09-12T17:59:19.684714Z",
          "iopub.status.idle": "2024-09-12T17:59:19.685139Z",
          "shell.execute_reply": "2024-09-12T17:59:19.68494Z",
          "shell.execute_reply.started": "2024-09-12T17:59:19.684919Z"
        },
        "id": "RRO95wowCvDg"
      },
      "execution_count": null,
      "outputs": []
    },
    {
      "cell_type": "code",
      "source": [
        "#get prediction start and end dates\n",
        "pred1_start_date = test1_data.index[0]\n",
        "pred1_end_date = test1_data.index[-1]"
      ],
      "metadata": {
        "execution": {
          "iopub.status.busy": "2024-09-12T17:59:19.686442Z",
          "iopub.status.idle": "2024-09-12T17:59:19.686954Z",
          "shell.execute_reply": "2024-09-12T17:59:19.686745Z",
          "shell.execute_reply.started": "2024-09-12T17:59:19.686688Z"
        },
        "id": "-XfpikRECvDh"
      },
      "execution_count": null,
      "outputs": []
    },
    {
      "cell_type": "code",
      "source": [
        "#get the predictions and residuals\n",
        "predictions = sarima_model1.predict(start=pred1_start_date, end=pred1_end_date)\n",
        "residuals = test1_data['AverageTemperature'] - predictions"
      ],
      "metadata": {
        "execution": {
          "iopub.status.busy": "2024-09-12T17:59:19.689699Z",
          "iopub.status.idle": "2024-09-12T17:59:19.690134Z",
          "shell.execute_reply": "2024-09-12T17:59:19.689937Z",
          "shell.execute_reply.started": "2024-09-12T17:59:19.689916Z"
        },
        "id": "nylx_pLSCvDh"
      },
      "execution_count": null,
      "outputs": []
    },
    {
      "cell_type": "code",
      "source": [
        "print('Root Mean Squared Error:', np.sqrt(np.mean(residuals**2)))\n",
        "\n",
        "plt.figure(figsize=(10,4))\n",
        "\n",
        "plt.plot(test1_data)\n",
        "plt.plot(predictions)\n",
        "\n",
        "plt.legend(('Data', 'Predictions'), fontsize=16)\n",
        "\n",
        "plt.title('First Difference ', fontsize=20)\n",
        "plt.ylabel('avg Temp', fontsize=16)"
      ],
      "metadata": {
        "execution": {
          "iopub.status.busy": "2024-09-12T17:59:19.691433Z",
          "iopub.status.idle": "2024-09-12T17:59:19.691928Z",
          "shell.execute_reply": "2024-09-12T17:59:19.691721Z",
          "shell.execute_reply.started": "2024-09-12T17:59:19.69169Z"
        },
        "id": "RTilVQpLCvDh"
      },
      "execution_count": null,
      "outputs": []
    },
    {
      "cell_type": "code",
      "source": [
        "from statsmodels.tsa.statespace.sarimax import SARIMAX\n",
        "sarima_model1 = SARIMAX(\n",
        "    test1_data,\n",
        "    order=(2, 0, 2),                 # ARIMA order (p, d, q)\n",
        "    seasonal_order=(1, 1, 1, 12)    # Seasonal order (P, D, Q, S) with period 12\n",
        ").fit()"
      ],
      "metadata": {
        "execution": {
          "iopub.status.busy": "2024-09-12T17:59:19.693556Z",
          "iopub.status.idle": "2024-09-12T17:59:19.69403Z",
          "shell.execute_reply": "2024-09-12T17:59:19.693836Z",
          "shell.execute_reply.started": "2024-09-12T17:59:19.693813Z"
        },
        "id": "5tCJy9IECvDh"
      },
      "execution_count": null,
      "outputs": []
    },
    {
      "cell_type": "code",
      "source": [
        "import matplotlib.pyplot as plt\n",
        "\n",
        "# Forecast the next 12 periods\n",
        "fore_sarima = sarima_model1.get_forecast(steps=12)\n",
        "\n",
        "# Get the predicted values and confidence intervals\n",
        "predicted_values = fore_sarima.predicted_mean\n",
        "confidence_intervals = fore_sarima.conf_int()\n",
        "\n",
        "# Get the index for the forecasted period\n",
        "forecast_index = pd.date_range(start=test1_data.index[-1], periods=12+1, freq='MS')[1:]\n",
        "\n",
        "# Plotting the actual data\n",
        "plt.plot(test1_data.index, test1_data, label='Observed', color='blue')\n",
        "\n",
        "# Plotting the forecasted data\n",
        "plt.plot(forecast_index, predicted_values, label='Forecast', color='green')\n",
        "\n",
        "# Plotting the confidence intervals\n",
        "plt.fill_between(forecast_index,\n",
        "                 confidence_intervals.iloc[:, 0],\n",
        "                 confidence_intervals.iloc[:, 1],\n",
        "                 color='lightgreen', alpha=0.5, label='Confidence Interval')\n",
        "\n",
        "# Adding labels and legend\n",
        "plt.xlabel('Date')\n",
        "plt.ylabel('Values')\n",
        "plt.title('SARIMA Forecast')\n",
        "plt.legend()\n",
        "\n",
        "# Show the plot\n",
        "plt.show()\n"
      ],
      "metadata": {
        "execution": {
          "iopub.status.busy": "2024-09-12T17:59:19.695387Z",
          "iopub.status.idle": "2024-09-12T17:59:19.696006Z",
          "shell.execute_reply": "2024-09-12T17:59:19.695794Z",
          "shell.execute_reply.started": "2024-09-12T17:59:19.69577Z"
        },
        "id": "RbAPCZUeCvDh"
      },
      "execution_count": null,
      "outputs": []
    },
    {
      "cell_type": "markdown",
      "source": [
        "# Forcasting Cluster 2"
      ],
      "metadata": {
        "id": "c-9Dmt7xCvDh"
      }
    },
    {
      "cell_type": "code",
      "source": [
        "df_egy=df[df['Country']=='Egypt']"
      ],
      "metadata": {
        "execution": {
          "iopub.status.busy": "2024-09-12T17:59:19.697441Z",
          "iopub.status.idle": "2024-09-12T17:59:19.697934Z",
          "shell.execute_reply": "2024-09-12T17:59:19.697742Z",
          "shell.execute_reply.started": "2024-09-12T17:59:19.697717Z"
        },
        "id": "cUhZqWkgCvDh"
      },
      "execution_count": null,
      "outputs": []
    },
    {
      "cell_type": "code",
      "source": [
        "# Subsetting\n",
        "c1 =df_egy[df_egy['City']=='Aswan']\n",
        "c1.set_index('dt', inplace=True)\n",
        "c1"
      ],
      "metadata": {
        "execution": {
          "iopub.status.busy": "2024-09-12T17:59:19.699073Z",
          "iopub.status.idle": "2024-09-12T17:59:19.699562Z",
          "shell.execute_reply": "2024-09-12T17:59:19.699313Z",
          "shell.execute_reply.started": "2024-09-12T17:59:19.69929Z"
        },
        "id": "BixbHripCvDh"
      },
      "execution_count": null,
      "outputs": []
    },
    {
      "cell_type": "code",
      "source": [
        "c1= c1.fillna(0)"
      ],
      "metadata": {
        "execution": {
          "iopub.status.busy": "2024-09-12T17:59:19.700721Z",
          "iopub.status.idle": "2024-09-12T17:59:19.701155Z",
          "shell.execute_reply": "2024-09-12T17:59:19.700957Z",
          "shell.execute_reply.started": "2024-09-12T17:59:19.700935Z"
        },
        "id": "LoPmiZERCvDi"
      },
      "execution_count": null,
      "outputs": []
    },
    {
      "cell_type": "code",
      "source": [
        "start_date = datetime(1860,5,1)\n",
        "end_date = datetime(2013,8,1)\n",
        "lim1_df = c1[start_date:end_date]\n",
        "lim1_df=lim1_df.drop(['City','Country','Longitude','Latitude','AverageTemperatureUncertainty'],axis=1)\n",
        "plt.figure(figsize=(10,4))\n",
        "plt.plot(lim1_df)\n",
        "plt.ylabel('AverageTemperature', fontsize=16)\n",
        "for year in range(start_date.year,end_date.year):\n",
        "    plt.axvline(pd.to_datetime(str(year)+'-01-01'), color='k', linestyle='--', alpha=0.2)"
      ],
      "metadata": {
        "execution": {
          "iopub.status.busy": "2024-09-12T17:59:19.702724Z",
          "iopub.status.idle": "2024-09-12T17:59:19.703131Z",
          "shell.execute_reply": "2024-09-12T17:59:19.702943Z",
          "shell.execute_reply.started": "2024-09-12T17:59:19.702922Z"
        },
        "id": "xRTb6EFVCvDi"
      },
      "execution_count": null,
      "outputs": []
    },
    {
      "cell_type": "code",
      "source": [
        "from prophet.plot import plot_components\n",
        "\n",
        "model = Prophet()\n",
        "model.fit(c1)\n",
        "future = model.make_future_dataframe(periods=0)\n",
        "forecast = model.predict(future)\n",
        "\n",
        "plot_components(model, forecast)\n",
        "plt.show()"
      ],
      "metadata": {
        "execution": {
          "iopub.status.busy": "2024-09-12T17:59:19.705283Z",
          "iopub.status.idle": "2024-09-12T17:59:19.705962Z",
          "shell.execute_reply": "2024-09-12T17:59:19.705639Z",
          "shell.execute_reply.started": "2024-09-12T17:59:19.705603Z"
        },
        "id": "-FT3YU6yCvDi"
      },
      "execution_count": null,
      "outputs": []
    },
    {
      "cell_type": "code",
      "source": [
        "c1.tail()"
      ],
      "metadata": {
        "execution": {
          "iopub.status.busy": "2024-09-12T17:59:19.708026Z",
          "iopub.status.idle": "2024-09-12T17:59:19.708647Z",
          "shell.execute_reply": "2024-09-12T17:59:19.708352Z",
          "shell.execute_reply.started": "2024-09-12T17:59:19.70832Z"
        },
        "id": "5qfHwpCzCvDi"
      },
      "execution_count": null,
      "outputs": []
    },
    {
      "cell_type": "code",
      "source": [
        "plot_acf(lim1_df, lags=24, title='Autocorrelation')"
      ],
      "metadata": {
        "execution": {
          "iopub.status.busy": "2024-09-12T17:59:19.709882Z",
          "iopub.status.idle": "2024-09-12T17:59:19.71033Z",
          "shell.execute_reply": "2024-09-12T17:59:19.71014Z",
          "shell.execute_reply.started": "2024-09-12T17:59:19.710118Z"
        },
        "id": "hKkf9xhACvDi"
      },
      "execution_count": null,
      "outputs": []
    },
    {
      "cell_type": "code",
      "source": [
        "plot_pacf(lim1_df, lags=24, title='partialcorrelation')"
      ],
      "metadata": {
        "execution": {
          "iopub.status.busy": "2024-09-12T17:59:19.712319Z",
          "iopub.status.idle": "2024-09-12T17:59:19.712906Z",
          "shell.execute_reply": "2024-09-12T17:59:19.712636Z",
          "shell.execute_reply.started": "2024-09-12T17:59:19.712605Z"
        },
        "id": "e_8e76Q8CvDi"
      },
      "execution_count": null,
      "outputs": []
    },
    {
      "cell_type": "code",
      "source": [
        "\n",
        "from numpy import diff\n",
        "\n",
        "second_diff = lim1_df.diff(periods=3)[3:]\n",
        "\n",
        "plt.figure(figsize=(10,4))\n",
        "plt.plot(second_diff)\n",
        "plt.title('diffrence of temp', fontsize=20)\n",
        "plt.ylabel('Sales', fontsize=16)\n",
        "for year in range(start_date.year,end_date.year):\n",
        "    plt.axvline(pd.to_datetime(str(year)+'-01-01'), color='k', linestyle='--', alpha=0.2)\n"
      ],
      "metadata": {
        "execution": {
          "iopub.status.busy": "2024-09-12T17:59:19.71545Z",
          "iopub.status.idle": "2024-09-12T17:59:19.716042Z",
          "shell.execute_reply": "2024-09-12T17:59:19.715779Z",
          "shell.execute_reply.started": "2024-09-12T17:59:19.715748Z"
        },
        "id": "-GMwhWUYCvDi"
      },
      "execution_count": null,
      "outputs": []
    },
    {
      "cell_type": "code",
      "source": [
        "lim1_df.head()"
      ],
      "metadata": {
        "execution": {
          "iopub.status.busy": "2024-09-12T17:59:19.717364Z",
          "iopub.status.idle": "2024-09-12T17:59:19.71814Z",
          "shell.execute_reply": "2024-09-12T17:59:19.717827Z",
          "shell.execute_reply.started": "2024-09-12T17:59:19.717794Z"
        },
        "id": "NYDdYYo-CvDi"
      },
      "execution_count": null,
      "outputs": []
    },
    {
      "cell_type": "code",
      "source": [
        "second_diff.head()"
      ],
      "metadata": {
        "execution": {
          "iopub.status.busy": "2024-09-12T17:59:19.720241Z",
          "iopub.status.idle": "2024-09-12T17:59:19.720876Z",
          "shell.execute_reply": "2024-09-12T17:59:19.720582Z",
          "shell.execute_reply.started": "2024-09-12T17:59:19.720549Z"
        },
        "id": "SCMCpIUOCvDj"
      },
      "execution_count": null,
      "outputs": []
    },
    {
      "cell_type": "code",
      "source": [
        "second_diff.tail()"
      ],
      "metadata": {
        "execution": {
          "iopub.status.busy": "2024-09-12T17:59:19.722992Z",
          "iopub.status.idle": "2024-09-12T17:59:19.723609Z",
          "shell.execute_reply": "2024-09-12T17:59:19.723306Z",
          "shell.execute_reply.started": "2024-09-12T17:59:19.723275Z"
        },
        "id": "gk-xnV_zCvDj"
      },
      "execution_count": null,
      "outputs": []
    },
    {
      "cell_type": "code",
      "source": [
        "plot_acf(second_diff, lags=30, title='Autocorrelation')\n",
        "plot_pacf(second_diff, lags=24, title='Partial Autocorrelation ')"
      ],
      "metadata": {
        "execution": {
          "iopub.status.busy": "2024-09-12T17:59:19.724848Z",
          "iopub.status.idle": "2024-09-12T17:59:19.725297Z",
          "shell.execute_reply": "2024-09-12T17:59:19.725103Z",
          "shell.execute_reply.started": "2024-09-12T17:59:19.72508Z"
        },
        "id": "HguG0QoYCvDj"
      },
      "execution_count": null,
      "outputs": []
    },
    {
      "cell_type": "code",
      "source": [
        "from datetime import datetime, timedelta\n",
        "\n",
        "\n",
        "train_end = datetime(2000,1,1)\n",
        "test_end = datetime(2013,8,1)\n",
        "\n",
        "train_data = second_diff[:train_end]\n",
        "\n",
        "test_data = second_diff[train_end + timedelta(days=1):test_end]\n",
        "original_test_data = lim1_df[train_end + timedelta(days=1):test_end]"
      ],
      "metadata": {
        "execution": {
          "iopub.status.busy": "2024-09-12T17:59:19.727486Z",
          "iopub.status.idle": "2024-09-12T17:59:19.727964Z",
          "shell.execute_reply": "2024-09-12T17:59:19.727773Z",
          "shell.execute_reply.started": "2024-09-12T17:59:19.727749Z"
        },
        "id": "QKp-PvziCvDj"
      },
      "execution_count": null,
      "outputs": []
    },
    {
      "cell_type": "code",
      "source": [
        "pred_start_date = test_data.index[0]\n",
        "pred_end_date = test_data.index[-1]"
      ],
      "metadata": {
        "execution": {
          "iopub.status.busy": "2024-09-12T17:59:19.729319Z",
          "iopub.status.idle": "2024-09-12T17:59:19.729791Z",
          "shell.execute_reply": "2024-09-12T17:59:19.729581Z",
          "shell.execute_reply.started": "2024-09-12T17:59:19.729558Z"
        },
        "id": "Y7F3qJ1rCvDj"
      },
      "execution_count": null,
      "outputs": []
    },
    {
      "cell_type": "code",
      "source": [
        "plot_acf(second_diff, lags=24, title='Autocorrelation')\n",
        "plot_pacf(second_diff, lags=24, title='Partial Autocorrelation ')"
      ],
      "metadata": {
        "execution": {
          "iopub.status.busy": "2024-09-12T17:59:19.731225Z",
          "iopub.status.idle": "2024-09-12T17:59:19.731681Z",
          "shell.execute_reply": "2024-09-12T17:59:19.731447Z",
          "shell.execute_reply.started": "2024-09-12T17:59:19.731425Z"
        },
        "id": "TM1IUK_PCvDj"
      },
      "execution_count": null,
      "outputs": []
    },
    {
      "cell_type": "code",
      "source": [
        "from statsmodels.tsa.statespace.sarimax import SARIMAX # type: ignore\n",
        "sarima_model1 = SARIMAX(\n",
        "    train_data,\n",
        "    order=(2, 0, 2),                 # ARIMA order (p, d, q)\n",
        "    seasonal_order=(1, 1, 1, 12)    # Seasonal order (P, D, Q, S) with period 12\n",
        ").fit()"
      ],
      "metadata": {
        "execution": {
          "iopub.status.busy": "2024-09-12T17:59:19.733398Z",
          "iopub.status.idle": "2024-09-12T17:59:19.733839Z",
          "shell.execute_reply": "2024-09-12T17:59:19.73365Z",
          "shell.execute_reply.started": "2024-09-12T17:59:19.733627Z"
        },
        "id": "IJUo83S9CvDj"
      },
      "execution_count": null,
      "outputs": []
    },
    {
      "cell_type": "code",
      "source": [
        "\n",
        "#get the predictions and residuals\n",
        "predictions = sarima_model1.predict(start=pred_start_date, end=pred_end_date)\n",
        "residuals = test_data['AverageTemperature'] - predictions"
      ],
      "metadata": {
        "execution": {
          "iopub.status.busy": "2024-09-12T17:59:19.734813Z",
          "iopub.status.idle": "2024-09-12T17:59:19.73527Z",
          "shell.execute_reply": "2024-09-12T17:59:19.735038Z",
          "shell.execute_reply.started": "2024-09-12T17:59:19.735018Z"
        },
        "id": "5wQacNguCvDj"
      },
      "execution_count": null,
      "outputs": []
    },
    {
      "cell_type": "code",
      "source": [
        "plt.figure(figsize=(10,4))\n",
        "plt.plot(test_data)\n",
        "plt.plot(predictions)\n",
        "plt.legend(('Data', 'Predictions'), fontsize=16)\n",
        "# plt.title('First Difference ', fontsize=20)\n",
        "plt.ylabel('avg Temp', fontsize=16)\n",
        "print('Root Mean Squared Error:', np.sqrt(np.mean(residuals**2)))"
      ],
      "metadata": {
        "execution": {
          "iopub.status.busy": "2024-09-12T17:59:19.736853Z",
          "iopub.status.idle": "2024-09-12T17:59:19.737308Z",
          "shell.execute_reply": "2024-09-12T17:59:19.737111Z",
          "shell.execute_reply.started": "2024-09-12T17:59:19.737087Z"
        },
        "id": "jEGDf23ACvDj"
      },
      "execution_count": null,
      "outputs": []
    },
    {
      "cell_type": "code",
      "source": [
        "from statsmodels.tsa.statespace.sarimax import SARIMAX # type: ignore\n",
        "sarima_model1 = SARIMAX(\n",
        "    test_data,\n",
        "    order=(2, 0, 2),                 # ARIMA order (p, d, q)\n",
        "    seasonal_order=(1, 1, 1, 12)    # Seasonal order (P, D, Q, S) with period 12\n",
        ").fit()"
      ],
      "metadata": {
        "execution": {
          "iopub.status.busy": "2024-09-12T17:59:19.738536Z",
          "iopub.status.idle": "2024-09-12T17:59:19.738965Z",
          "shell.execute_reply": "2024-09-12T17:59:19.738776Z",
          "shell.execute_reply.started": "2024-09-12T17:59:19.738753Z"
        },
        "id": "8ovJyxFdCvDj"
      },
      "execution_count": null,
      "outputs": []
    },
    {
      "cell_type": "code",
      "source": [
        "import matplotlib.pyplot as plt\n",
        "\n",
        "\n",
        "\n",
        "# Get the index for the forecasted period\n",
        "forecast_index = pd.date_range(start=test_data.index[-1], periods=12+1, freq='MS')[1:]\n",
        "\n",
        "# Plotting the actual data\n",
        "plt.plot(test_data.index, test_data, label='Observed', color='blue')\n",
        "\n",
        "# Plotting the forecasted data\n",
        "plt.plot(forecast_index, predicted_values, label='Forecast', color='green')\n",
        "\n",
        "# Plotting the confidence intervals\n",
        "plt.fill_between(forecast_index,\n",
        "                 confidence_intervals.iloc[:, 0],\n",
        "                 confidence_intervals.iloc[:, 1],\n",
        "                 color='lightgreen', alpha=0.5, label='Confidence Interval')\n",
        "\n",
        "# Adding labels and legend\n",
        "plt.xlabel('Date')\n",
        "plt.ylabel('Values')\n",
        "plt.title('SARIMA Forecast')\n",
        "plt.legend()\n",
        "\n",
        "# Show the plot\n",
        "plt.show()\n"
      ],
      "metadata": {
        "execution": {
          "iopub.status.busy": "2024-09-12T17:59:19.741003Z",
          "iopub.status.idle": "2024-09-12T17:59:19.741426Z",
          "shell.execute_reply": "2024-09-12T17:59:19.741243Z",
          "shell.execute_reply.started": "2024-09-12T17:59:19.741221Z"
        },
        "id": "75RC3XXaCvDk"
      },
      "execution_count": null,
      "outputs": []
    },
    {
      "cell_type": "markdown",
      "source": [
        "# Forcasting Cluster 3"
      ],
      "metadata": {
        "id": "upxZZBWqCvDk"
      }
    },
    {
      "cell_type": "code",
      "source": [
        "c2 =df_egy[df_egy['City']=='Cairo']\n",
        "c2.set_index('dt', inplace=True)\n",
        "c2\n",
        "c2= c2.fillna(0)"
      ],
      "metadata": {
        "execution": {
          "iopub.execute_input": "2024-09-12T18:03:33.275595Z",
          "iopub.status.busy": "2024-09-12T18:03:33.275147Z",
          "iopub.status.idle": "2024-09-12T18:03:33.296037Z",
          "shell.execute_reply": "2024-09-12T18:03:33.294855Z",
          "shell.execute_reply.started": "2024-09-12T18:03:33.27555Z"
        },
        "id": "Qd8leRhsCvDk"
      },
      "execution_count": null,
      "outputs": []
    },
    {
      "cell_type": "code",
      "source": [
        "c2.head()"
      ],
      "metadata": {
        "execution": {
          "iopub.execute_input": "2024-09-12T18:03:33.668277Z",
          "iopub.status.busy": "2024-09-12T18:03:33.667826Z",
          "iopub.status.idle": "2024-09-12T18:03:33.683807Z",
          "shell.execute_reply": "2024-09-12T18:03:33.68249Z",
          "shell.execute_reply.started": "2024-09-12T18:03:33.668234Z"
        },
        "id": "weOMn5FPCvDk"
      },
      "execution_count": null,
      "outputs": []
    },
    {
      "cell_type": "code",
      "source": [
        "start_date = datetime(1840,1,1)\n",
        "end_date = datetime(2013,8,1)\n",
        "lim2_df = c2[start_date:end_date]\n",
        "lim2_df=lim2_df.drop(['City','Country','Longitude','Latitude','AverageTemperatureUncertainty'],axis=1)\n",
        "plt.figure(figsize=(10,4))\n",
        "plt.plot(lim2_df)\n",
        "plt.ylabel('AverageTemperature', fontsize=16)\n",
        "for year in range(start_date.year,end_date.year):\n",
        "    plt.axvline(pd.to_datetime(str(year)+'-01-01'), color='k', linestyle='--', alpha=0.2)"
      ],
      "metadata": {
        "execution": {
          "iopub.execute_input": "2024-09-12T18:03:34.628041Z",
          "iopub.status.busy": "2024-09-12T18:03:34.627519Z",
          "iopub.status.idle": "2024-09-12T18:03:34.900766Z",
          "shell.execute_reply": "2024-09-12T18:03:34.898882Z",
          "shell.execute_reply.started": "2024-09-12T18:03:34.627979Z"
        },
        "id": "aNDyqm23CvDl"
      },
      "execution_count": null,
      "outputs": []
    },
    {
      "cell_type": "code",
      "source": [
        "plot_acf(lim2_df, lags=24, title='Autocorrelation')\n",
        "plot_pacf(lim2_df, lags=24, title='partialcorrelation')"
      ],
      "metadata": {
        "execution": {
          "iopub.execute_input": "2024-09-12T18:03:35.065396Z",
          "iopub.status.busy": "2024-09-12T18:03:35.064954Z",
          "iopub.status.idle": "2024-09-12T18:03:35.102401Z",
          "shell.execute_reply": "2024-09-12T18:03:35.100578Z",
          "shell.execute_reply.started": "2024-09-12T18:03:35.065352Z"
        },
        "id": "3SnQwEytCvDl"
      },
      "execution_count": null,
      "outputs": []
    },
    {
      "cell_type": "code",
      "source": [
        "from numpy import diff\n",
        "\n",
        "third_diff = lim2_df.diff(periods=3)[3:]\n",
        "\n",
        "plt.figure(figsize=(10,4))\n",
        "plt.plot(third_diff)\n",
        "plt.title('diffrence of temp', fontsize=20)\n",
        "for year in range(start_date.year,end_date.year):\n",
        "    plt.axvline(pd.to_datetime(str(year)+'-01-01'), color='k', linestyle='--', alpha=0.2)"
      ],
      "metadata": {
        "execution": {
          "iopub.execute_input": "2024-09-12T18:03:35.580393Z",
          "iopub.status.busy": "2024-09-12T18:03:35.579962Z",
          "iopub.status.idle": "2024-09-12T18:03:35.622146Z",
          "shell.execute_reply": "2024-09-12T18:03:35.620585Z",
          "shell.execute_reply.started": "2024-09-12T18:03:35.580352Z"
        },
        "id": "FMoERPmVCvDl"
      },
      "execution_count": null,
      "outputs": []
    },
    {
      "cell_type": "code",
      "source": [
        "plot_acf(third_diff, lags=24, title='Autocorrelation')\n",
        "\n",
        "\n",
        "\n",
        "plot_pacf(third_diff, lags=24, title='partialcorrelation')\n"
      ],
      "metadata": {
        "execution": {
          "iopub.status.busy": "2024-09-12T17:59:19.754176Z",
          "iopub.status.idle": "2024-09-12T17:59:19.754627Z",
          "shell.execute_reply": "2024-09-12T17:59:19.754406Z",
          "shell.execute_reply.started": "2024-09-12T17:59:19.754385Z"
        },
        "id": "o_4z68E7CvDl"
      },
      "execution_count": null,
      "outputs": []
    },
    {
      "cell_type": "code",
      "source": [
        "from datetime import datetime, timedelta\n",
        "\n",
        "\n",
        "train3_end = datetime(2000,1,1)\n",
        "test3_end = datetime(2013,8,1)\n",
        "\n",
        "train3_data = third_diff[:train3_end]\n",
        "\n",
        "test3_data = third_diff[train3_end + timedelta(days=1):test3_end]\n",
        "pred3_start_date = test3_data.index[0]\n",
        "pred3_end_date = test3_data.index[-1]"
      ],
      "metadata": {
        "execution": {
          "iopub.status.busy": "2024-09-12T17:59:19.756292Z",
          "iopub.status.idle": "2024-09-12T17:59:19.756735Z",
          "shell.execute_reply": "2024-09-12T17:59:19.756541Z",
          "shell.execute_reply.started": "2024-09-12T17:59:19.756491Z"
        },
        "id": "z-KDratdCvDl"
      },
      "execution_count": null,
      "outputs": []
    },
    {
      "cell_type": "code",
      "source": [
        "from statsmodels.tsa.statespace.sarimax import SARIMAX # type: ignore\n",
        "sarima_model3 = SARIMAX(\n",
        "    train3_data,\n",
        "    order=(2, 0, 2),                 # ARIMA order (p, d, q)\n",
        "    seasonal_order=(1, 1, 1, 12)    # Seasonal order (P, D, Q, S) with period 12\n",
        ").fit()\n"
      ],
      "metadata": {
        "execution": {
          "iopub.status.busy": "2024-09-12T17:59:19.757793Z",
          "iopub.status.idle": "2024-09-12T17:59:19.758217Z",
          "shell.execute_reply": "2024-09-12T17:59:19.758021Z",
          "shell.execute_reply.started": "2024-09-12T17:59:19.758Z"
        },
        "id": "LFwr493qCvDl"
      },
      "execution_count": null,
      "outputs": []
    },
    {
      "cell_type": "code",
      "source": [
        "#get the predictions and residuals\n",
        "predictions = sarima_model3.predict(start=pred3_start_date, end=pred3_end_date)\n",
        "residuals = test_data['AverageTemperature'] - predictions"
      ],
      "metadata": {
        "execution": {
          "iopub.status.busy": "2024-09-12T17:59:19.76025Z",
          "iopub.status.idle": "2024-09-12T17:59:19.760686Z",
          "shell.execute_reply": "2024-09-12T17:59:19.760465Z",
          "shell.execute_reply.started": "2024-09-12T17:59:19.760444Z"
        },
        "id": "xM5Bis6PCvDl"
      },
      "execution_count": null,
      "outputs": []
    },
    {
      "cell_type": "code",
      "source": [
        "plt.figure(figsize=(10,4))\n",
        "plt.plot(test3_data)\n",
        "plt.plot(predictions)\n",
        "plt.legend(('Data', 'Predictions'), fontsize=16)\n",
        "# plt.title('First Difference ', fontsize=20)\n",
        "plt.ylabel('avg Temp', fontsize=16)\n",
        "print('Root Mean Squared Error:', np.sqrt(np.mean(residuals**2)))"
      ],
      "metadata": {
        "execution": {
          "iopub.status.busy": "2024-09-12T17:59:19.76267Z",
          "iopub.status.idle": "2024-09-12T17:59:19.763109Z",
          "shell.execute_reply": "2024-09-12T17:59:19.762893Z",
          "shell.execute_reply.started": "2024-09-12T17:59:19.762872Z"
        },
        "id": "9yQMQ3fQCvDl"
      },
      "execution_count": null,
      "outputs": []
    },
    {
      "cell_type": "code",
      "source": [
        "import matplotlib.pyplot as plt\n",
        "\n",
        "\n",
        "\n",
        "# Get the index for the forecasted period\n",
        "forecast_index = pd.date_range(start=train3_data.index[-1], periods=12+1, freq='MS')[1:]\n",
        "\n",
        "# Plotting the actual data\n",
        "plt.plot(train3_data.index, train3_data, label='Observed', color='blue')\n",
        "\n",
        "# Plotting the forecasted data\n",
        "plt.plot(forecast_index, predicted_values, label='Forecast', color='green')\n",
        "\n",
        "# Plotting the confidence intervals\n",
        "plt.fill_between(forecast_index,\n",
        "                 confidence_intervals.iloc[:, 0],\n",
        "                 confidence_intervals.iloc[:, 1],\n",
        "                 color='lightgreen', alpha=0.5, label='Confidence Interval')\n",
        "\n",
        "# Adding labels and legend\n",
        "plt.xlabel('Date')\n",
        "plt.ylabel('Values')\n",
        "plt.title('SARIMA Forecast')\n",
        "plt.legend()\n",
        "\n",
        "# Show the plot\n",
        "plt.show()\n"
      ],
      "metadata": {
        "execution": {
          "iopub.status.busy": "2024-09-12T17:59:19.765789Z",
          "iopub.status.idle": "2024-09-12T17:59:19.766388Z",
          "shell.execute_reply": "2024-09-12T17:59:19.766114Z",
          "shell.execute_reply.started": "2024-09-12T17:59:19.766081Z"
        },
        "id": "DtQVQH__CvDl"
      },
      "execution_count": null,
      "outputs": []
    },
    {
      "cell_type": "code",
      "source": [
        "from statsmodels.tsa.statespace.sarimax import SARIMAX # type: ignore\n",
        "sarima_model3 = SARIMAX(\n",
        "    test3_data,\n",
        "    order=(2, 0, 2),                 # ARIMA order (p, d, q)\n",
        "    seasonal_order=(1, 1, 1, 12)    # Seasonal order (P, D, Q, S) with period 12\n",
        ").fit()\n"
      ],
      "metadata": {
        "execution": {
          "iopub.status.busy": "2024-09-12T17:59:19.767783Z",
          "iopub.status.idle": "2024-09-12T17:59:19.768369Z",
          "shell.execute_reply": "2024-09-12T17:59:19.768103Z",
          "shell.execute_reply.started": "2024-09-12T17:59:19.768072Z"
        },
        "id": "eDD6sahyCvDm"
      },
      "execution_count": null,
      "outputs": []
    },
    {
      "cell_type": "code",
      "source": [
        "import matplotlib.pyplot as plt\n",
        "\n",
        "\n",
        "\n",
        "# Get the index for the forecasted period\n",
        "forecast_index = pd.date_range(start=test3_data.index[-1], periods=12+1, freq='MS')[1:]\n",
        "\n",
        "# Plotting the actual data\n",
        "plt.plot(test3_data.index, test3_data, label='Observed', color='blue')\n",
        "\n",
        "# Plotting the forecasted data\n",
        "plt.plot(forecast_index, predicted_values, label='Forecast', color='green')\n",
        "\n",
        "# Plotting the confidence intervals\n",
        "plt.fill_between(forecast_index,\n",
        "                 confidence_intervals.iloc[:, 0],\n",
        "                 confidence_intervals.iloc[:, 1],\n",
        "                 color='lightgreen', alpha=0.5, label='Confidence Interval')\n",
        "\n",
        "# Adding labels and legend\n",
        "plt.xlabel('Date')\n",
        "plt.ylabel('Values')\n",
        "plt.title('SARIMA Forecast')\n",
        "plt.legend()\n",
        "\n",
        "# Show the plot\n",
        "plt.show()\n"
      ],
      "metadata": {
        "execution": {
          "iopub.status.busy": "2024-09-12T17:59:19.769918Z",
          "iopub.status.idle": "2024-09-12T17:59:19.770361Z",
          "shell.execute_reply": "2024-09-12T17:59:19.770166Z",
          "shell.execute_reply.started": "2024-09-12T17:59:19.770143Z"
        },
        "id": "bPBiyEcKCvDm"
      },
      "execution_count": null,
      "outputs": []
    },
    {
      "cell_type": "markdown",
      "source": [
        "# Regression"
      ],
      "metadata": {
        "id": "8TW6haVuCvDm"
      }
    },
    {
      "cell_type": "code",
      "source": [
        "df_regression=df_egy.copy()"
      ],
      "metadata": {
        "execution": {
          "iopub.status.busy": "2024-09-12T17:59:19.77206Z",
          "iopub.status.idle": "2024-09-12T17:59:19.772551Z",
          "shell.execute_reply": "2024-09-12T17:59:19.772336Z",
          "shell.execute_reply.started": "2024-09-12T17:59:19.772311Z"
        },
        "id": "wPrXjI7HCvDm"
      },
      "execution_count": null,
      "outputs": []
    },
    {
      "cell_type": "code",
      "source": [
        "df_regression.info()"
      ],
      "metadata": {
        "execution": {
          "iopub.status.busy": "2024-09-12T17:59:19.774428Z",
          "iopub.status.idle": "2024-09-12T17:59:19.774938Z",
          "shell.execute_reply": "2024-09-12T17:59:19.774731Z",
          "shell.execute_reply.started": "2024-09-12T17:59:19.774708Z"
        },
        "id": "X3kvhOhpCvDm"
      },
      "execution_count": null,
      "outputs": []
    },
    {
      "cell_type": "code",
      "source": [
        "import pandas as pd\n",
        "import numpy as np\n",
        "\n",
        "\n",
        "# Convert Latitude and Longitude to numeric values\n",
        "df_regression['Latitude'] = df_regression['Latitude'].str[:-1].astype(float)  # Remove the 'N' or 'S' and convert to float\n",
        "df_regression['Longitude'] = df_regression['Longitude'].str[:-1].astype(float)  # Remove the 'E' or 'W' and convert to float\n",
        "\n",
        "\n",
        "df_regression['Year'] = df_regression['dt'].dt.year\n",
        "df_regression['Month'] = df_regression['dt'].dt.month\n",
        "\n",
        "# Drop rows where AverageTemperature is NaN (or you can impute if necessary)\n",
        "df_clean = df_regression.dropna(subset=['AverageTemperature'])\n",
        "\n",
        "# Selecting the features and target variable\n",
        "X = df_clean[['Longitude', 'Latitude', 'Month']]\n",
        "y = df_clean['AverageTemperature']"
      ],
      "metadata": {
        "execution": {
          "iopub.status.busy": "2024-09-12T17:59:19.77634Z",
          "iopub.status.idle": "2024-09-12T17:59:19.776788Z",
          "shell.execute_reply": "2024-09-12T17:59:19.776597Z",
          "shell.execute_reply.started": "2024-09-12T17:59:19.776574Z"
        },
        "id": "sSbuytLKCvDm"
      },
      "execution_count": null,
      "outputs": []
    },
    {
      "cell_type": "code",
      "source": [
        "from sklearn.model_selection import train_test_split\n",
        "from sklearn.linear_model import LinearRegression\n",
        "from sklearn.metrics import mean_squared_error, r2_score\n",
        "import numpy as np\n",
        "\n",
        "# Assuming 'X' contains your features and 'y' contains the target variable (AverageTemperature)\n",
        "# Split the data into training and testing sets (80% train, 20% test)\n",
        "X_train, X_test, y_train, y_test = train_test_split(X, y, test_size=0.2, random_state=42)\n",
        "\n",
        "# Initialize and fit the regression model\n",
        "model = LinearRegression()\n",
        "model.fit(X_train, y_train)\n",
        "\n",
        "# Make predictions for both training and testing sets\n",
        "y_train_pred = model.predict(X_train)\n",
        "y_test_pred = model.predict(X_test)\n",
        "\n",
        "# Evaluate on the training set\n",
        "train_rmse = np.sqrt(mean_squared_error(y_train, y_train_pred))\n",
        "train_r2 = r2_score(y_train, y_train_pred)\n",
        "\n",
        "# Evaluate on the testing set\n",
        "test_rmse = np.sqrt(mean_squared_error(y_test, y_test_pred))\n",
        "test_r2 = r2_score(y_test, y_test_pred)\n",
        "\n",
        "# Print results\n",
        "print(f\"Training Set RMSE: {train_rmse:.4f}\")\n",
        "print(f\"Training Set R² Score: {train_r2:.4f}\")\n",
        "print(f\"Testing Set RMSE: {test_rmse:.4f}\")\n",
        "print(f\"Testing Set R² Score: {test_r2:.4f}\")"
      ],
      "metadata": {
        "execution": {
          "iopub.status.busy": "2024-09-12T17:59:19.778631Z",
          "iopub.status.idle": "2024-09-12T17:59:19.779033Z",
          "shell.execute_reply": "2024-09-12T17:59:19.778852Z",
          "shell.execute_reply.started": "2024-09-12T17:59:19.778831Z"
        },
        "id": "trgeugf_CvDm"
      },
      "execution_count": null,
      "outputs": []
    },
    {
      "cell_type": "code",
      "source": [
        "# Initialize and fit the RandomForest model\n",
        "rf_model = RandomForestRegressor(n_estimators=100, random_state=42)\n",
        "rf_model.fit(X_train, y_train)\n",
        "\n",
        "# Make predictions for both training and testing sets\n",
        "y_train_pred_rf = rf_model.predict(X_train)\n",
        "y_test_pred_rf = rf_model.predict(X_test)\n",
        "\n",
        "# Evaluate on the training set\n",
        "train_rmse_rf = np.sqrt(mean_squared_error(y_train, y_train_pred_rf))\n",
        "train_r2_rf = r2_score(y_train, y_train_pred_rf)\n",
        "\n",
        "# Evaluate on the testing set\n",
        "test_rmse_rf = np.sqrt(mean_squared_error(y_test, y_test_pred_rf))\n",
        "test_r2_rf = r2_score(y_test, y_test_pred_rf)\n",
        "\n",
        "# Print results\n",
        "print(f\"Random Forest - Training Set RMSE: {train_rmse_rf:.4f}\")\n",
        "print(f\"Random Forest - Training Set R² Score: {train_r2_rf:.4f}\")\n",
        "print(f\"Random Forest - Testing Set RMSE: {test_rmse_rf:.4f}\")\n",
        "print(f\"Random Forest - Testing Set R² Score: {test_r2_rf:.4f}\")"
      ],
      "metadata": {
        "execution": {
          "iopub.status.busy": "2024-09-12T17:59:19.780585Z",
          "iopub.status.idle": "2024-09-12T17:59:19.78103Z",
          "shell.execute_reply": "2024-09-12T17:59:19.780835Z",
          "shell.execute_reply.started": "2024-09-12T17:59:19.780812Z"
        },
        "id": "aZUaeyfkCvDm"
      },
      "execution_count": null,
      "outputs": []
    },
    {
      "cell_type": "code",
      "source": [
        "import numpy as np\n",
        "import matplotlib.pyplot as plt\n",
        "from sklearn.model_selection import train_test_split, GridSearchCV, cross_val_score\n",
        "from sklearn.metrics import r2_score, mean_squared_error\n",
        "from sklearn.linear_model import LinearRegression, Lasso\n",
        "from sklearn.preprocessing import PolynomialFeatures\n",
        "from sklearn.ensemble import RandomForestRegressor, GradientBoostingRegressor, AdaBoostRegressor\n",
        "from sklearn.pipeline import Pipeline\n",
        "\n",
        "\n",
        "# Split the data (assuming X and y are defined)\n",
        "X_train, X_test, y_train, y_test = train_test_split(X, y, test_size=0.2, random_state=42)\n",
        "\n",
        "# Define models and their hyperparameter grids\n",
        "models = {\n",
        "    'LinearRegression': {\n",
        "        'model': LinearRegression(),\n",
        "        'params': {}\n",
        "    },\n",
        "    'Lasso': {\n",
        "        'model': Lasso(),\n",
        "        'params': {\n",
        "            'alpha': [0.01, 0.1, 1, 10]\n",
        "        }\n",
        "    },\n",
        "    'PolynomialRegression': {\n",
        "        'model': Pipeline([\n",
        "            ('poly', PolynomialFeatures()),\n",
        "            ('linear', LinearRegression())\n",
        "        ]),\n",
        "        'params': {\n",
        "            'poly__degree': [2, 3, 4]\n",
        "        }\n",
        "    },\n",
        "    'RandomForest': {\n",
        "        'model': RandomForestRegressor(random_state=42),\n",
        "        'params': {\n",
        "            'n_estimators': [50, 100, 150],\n",
        "            'max_depth': [10, 20, 30]\n",
        "        }\n",
        "    },\n",
        "    'GradientBoosting': {\n",
        "        'model': GradientBoostingRegressor(random_state=42),\n",
        "        'params': {\n",
        "            'n_estimators': [50, 100, 150],\n",
        "            'learning_rate': [0.01, 0.05, 0.1],\n",
        "            'max_depth': [3, 5, 7]\n",
        "        }\n",
        "    },\n",
        "    'AdaBoost': {\n",
        "        'model': AdaBoostRegressor(random_state=42),\n",
        "        'params': {\n",
        "            'n_estimators': [50, 100, 150],\n",
        "            'learning_rate': [0.01, 0.1, 1.0]\n",
        "        }\n",
        "    },\n",
        "}\n",
        "\n",
        "# Store the results for each model\n",
        "results = {}\n",
        "\n",
        "# Function to train model and calculate R² for train and test sets\n",
        "def evaluate_model(model_name, model, params):\n",
        "    grid_search = GridSearchCV(model, params, cv=5, scoring='r2', n_jobs=-1)\n",
        "    grid_search.fit(X_train, y_train)\n",
        "\n",
        "    best_model = grid_search.best_estimator_\n",
        "\n",
        "    # Get R² for the train set\n",
        "    y_train_pred = best_model.predict(X_train)\n",
        "    train_r2 = r2_score(y_train, y_train_pred)\n",
        "\n",
        "    # Get R² for the test set\n",
        "    y_test_pred = best_model.predict(X_test)\n",
        "    test_r2 = r2_score(y_test, y_test_pred)\n",
        "\n",
        "    # Store results\n",
        "    results[model_name] = {\n",
        "        'best_model': best_model,\n",
        "        'train_r2': train_r2,\n",
        "        'test_r2': test_r2\n",
        "    }\n",
        "\n",
        "    print(f\"{model_name} - Best Params: {grid_search.best_params_}, Train R²: {train_r2:.4f}, Test R²: {test_r2:.4f}\")\n",
        "\n",
        "# Iterate over each model, tune, and evaluate\n",
        "for model_name, model_info in models.items():\n",
        "    evaluate_model(model_name, model_info['model'], model_info['params'])\n",
        "\n",
        "# Plot the R² scores\n",
        "train_r2_scores = [results[model]['train_r2'] for model in results]\n",
        "test_r2_scores = [results[model]['test_r2'] for model in results]\n",
        "model_names = list(results.keys())\n",
        "\n",
        "plt.figure(figsize=(10, 6))\n",
        "plt.barh(model_names, train_r2_scores, color='skyblue', label='Train R²')\n",
        "plt.barh(model_names, test_r2_scores, left=train_r2_scores, color='salmon', label='Test R²')\n",
        "plt.xlabel('R² Score')\n",
        "plt.title('Train and Test R² Scores for Different Models')\n",
        "plt.legend()\n",
        "plt.show()\n",
        "\n",
        "# Find and print the best model based on test R²\n",
        "best_model_name = max(results, key=lambda model: results[model]['test_r2'])\n",
        "best_model = results[best_model_name]['best_model']\n",
        "best_test_r2 = results[best_model_name]['test_r2']\n",
        "\n",
        "print(f\"\\nBest Model: {best_model_name} with Test R² Score: {best_test_r2:.4f}\")"
      ],
      "metadata": {
        "execution": {
          "iopub.status.busy": "2024-09-12T17:59:19.782401Z",
          "iopub.status.idle": "2024-09-12T17:59:19.782875Z",
          "shell.execute_reply": "2024-09-12T17:59:19.782677Z",
          "shell.execute_reply.started": "2024-09-12T17:59:19.782654Z"
        },
        "id": "tOBY7t88CvDm"
      },
      "execution_count": null,
      "outputs": []
    }
  ]
}